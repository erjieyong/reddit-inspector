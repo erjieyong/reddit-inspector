{
 "cells": [
  {
   "cell_type": "markdown",
   "id": "1bcaba20-f04b-4f67-9451-7844ff6d32f0",
   "metadata": {},
   "source": [
    "# Multiclass Classification Modeling\n",
    "To classify *Science* posts into different type of subfields (`flair` as reddits calls it) such as Health, Biology, Psychology, Medicine, Environment etc"
   ]
  },
  {
   "cell_type": "markdown",
   "id": "b319571c-be74-4f26-983f-c4f2e02ff441",
   "metadata": {},
   "source": [
    "## Importing packages and datafiles"
   ]
  },
  {
   "cell_type": "code",
   "execution_count": 1,
   "id": "1b46e956-ef54-4cf2-8f2c-e62f8c39f1d3",
   "metadata": {},
   "outputs": [],
   "source": [
    "import pandas as pd\n",
    "import numpy as np\n",
    "import matplotlib.pyplot as plt\n",
    "import seaborn as sns\n",
    "from scipy import stats\n",
    "from scipy.sparse import csr_matrix\n",
    "import time, re, os\n",
    "\n",
    "#to allow for progress tracking\n",
    "from tqdm import tqdm\n",
    "tqdm.pandas()\n",
    "\n",
    "from sklearn.model_selection import train_test_split, GridSearchCV, cross_val_score\n",
    "from sklearn.pipeline import Pipeline\n",
    "from sklearn.compose import ColumnTransformer\n",
    "from sklearn.naive_bayes import MultinomialNB\n",
    "from sklearn.metrics import confusion_matrix, ConfusionMatrixDisplay\n",
    "from sklearn.feature_extraction.text import CountVectorizer, TfidfVectorizer, TfidfTransformer\n",
    "from sklearn.metrics import accuracy_score, precision_score,  f1_score, recall_score # for model performance assessment\n",
    "from sklearn.preprocessing import OneHotEncoder\n",
    "from sklearn.linear_model import RidgeClassifier\n",
    "\n",
    "#pycaret\n",
    "from pycaret.classification import *\n",
    "\n",
    "# imports for contextual embeddings\n",
    "from transformers import pipeline # loading pre-trained models for contextual word embeddings (Hugging Face)\n"
   ]
  },
  {
   "cell_type": "code",
   "execution_count": 2,
   "id": "75bbb221-3366-4e91-a8d3-4a1c532f049a",
   "metadata": {},
   "outputs": [],
   "source": [
    "# Retrieve stored data from main notebook\n",
    "%store -r science_df"
   ]
  },
  {
   "cell_type": "markdown",
   "id": "873ebc91-d696-4eca-a2e1-bbb8526ed104",
   "metadata": {},
   "source": [
    "## Data Cleaning"
   ]
  },
  {
   "cell_type": "code",
   "execution_count": 3,
   "id": "8c49777e-92f9-44d9-9eac-14d6471704a2",
   "metadata": {},
   "outputs": [],
   "source": [
    "multi_df = science_df[['combined','link_flair_text']]"
   ]
  },
  {
   "cell_type": "code",
   "execution_count": 4,
   "id": "78b55e61-ed3d-41cb-a2bb-e9c90271a312",
   "metadata": {},
   "outputs": [
    {
     "name": "stdout",
     "output_type": "stream",
     "text": [
      "<class 'pandas.core.frame.DataFrame'>\n",
      "RangeIndex: 24961 entries, 0 to 24960\n",
      "Data columns (total 2 columns):\n",
      " #   Column           Non-Null Count  Dtype \n",
      "---  ------           --------------  ----- \n",
      " 0   combined         24961 non-null  object\n",
      " 1   link_flair_text  24955 non-null  object\n",
      "dtypes: object(2)\n",
      "memory usage: 390.1+ KB\n"
     ]
    }
   ],
   "source": [
    "multi_df.info()"
   ]
  },
  {
   "cell_type": "code",
   "execution_count": 5,
   "id": "4cb28baf-6df2-4d41-bbff-7b5a3e3b1877",
   "metadata": {},
   "outputs": [],
   "source": [
    "#drop missing data\n",
    "multi_df.dropna(inplace = True)"
   ]
  },
  {
   "cell_type": "code",
   "execution_count": 6,
   "id": "2792403f-623d-44ae-abf0-59780e803e4f",
   "metadata": {},
   "outputs": [
    {
     "data": {
      "text/plain": [
       "{'Medicine': 1,\n",
       " 'Social Science': 2,\n",
       " 'Animal Science': 3,\n",
       " 'Anthropology': 4,\n",
       " 'Environment': 5,\n",
       " 'Psychology': 6,\n",
       " 'Health': 7,\n",
       " 'Nanoscience': 8,\n",
       " 'Engineering': 9,\n",
       " 'Biology': 10,\n",
       " 'Earth Science': 11,\n",
       " 'Astronomy': 12,\n",
       " 'Genetics': 13,\n",
       " 'Economics': 14,\n",
       " 'Paleontology': 15,\n",
       " 'Chemistry': 16,\n",
       " 'Neuroscience': 17,\n",
       " 'Cancer': 18,\n",
       " 'Mathematics': 19,\n",
       " 'Epidemiology': 20,\n",
       " 'Physics': 21,\n",
       " 'Geology': 22,\n",
       " 'Materials Science': 23,\n",
       " 'Computer Science': 24,\n",
       " 'Breaking News': 25,\n",
       " 'Retraction': 26,\n",
       " 'Best of r/science': 27}"
      ]
     },
     "execution_count": 6,
     "metadata": {},
     "output_type": "execute_result"
    }
   ],
   "source": [
    "flair_dict = dict(zip(multi_df['link_flair_text'].unique(),range(1,len(multi_df['link_flair_text'].unique())+1)))\n",
    "flair_dict"
   ]
  },
  {
   "cell_type": "code",
   "execution_count": 7,
   "id": "9eae217f-5a58-4a3f-9403-3bc92f5a4fbb",
   "metadata": {},
   "outputs": [],
   "source": [
    "# encode the y column\n",
    "multi_df['link_flair_text'] = multi_df['link_flair_text'].apply(lambda x : flair_dict[x])"
   ]
  },
  {
   "cell_type": "code",
   "execution_count": 8,
   "id": "469c1a56-5c4d-4637-9270-42bbe0738133",
   "metadata": {},
   "outputs": [
    {
     "data": {
      "text/html": [
       "<div>\n",
       "<style scoped>\n",
       "    .dataframe tbody tr th:only-of-type {\n",
       "        vertical-align: middle;\n",
       "    }\n",
       "\n",
       "    .dataframe tbody tr th {\n",
       "        vertical-align: top;\n",
       "    }\n",
       "\n",
       "    .dataframe thead th {\n",
       "        text-align: right;\n",
       "    }\n",
       "</style>\n",
       "<table border=\"1\" class=\"dataframe\">\n",
       "  <thead>\n",
       "    <tr style=\"text-align: right;\">\n",
       "      <th></th>\n",
       "      <th>combined</th>\n",
       "      <th>link_flair_text</th>\n",
       "    </tr>\n",
       "  </thead>\n",
       "  <tbody>\n",
       "    <tr>\n",
       "      <th>0</th>\n",
       "      <td>Researchers identify the sodium leak channel n...</td>\n",
       "      <td>1</td>\n",
       "    </tr>\n",
       "    <tr>\n",
       "      <th>1</th>\n",
       "      <td>New study explores why people drop out or don'...</td>\n",
       "      <td>2</td>\n",
       "    </tr>\n",
       "    <tr>\n",
       "      <th>2</th>\n",
       "      <td>Dogs can discriminate between human baseline a...</td>\n",
       "      <td>3</td>\n",
       "    </tr>\n",
       "    <tr>\n",
       "      <th>3</th>\n",
       "      <td>A new look at an extremely rare female infant ...</td>\n",
       "      <td>4</td>\n",
       "    </tr>\n",
       "    <tr>\n",
       "      <th>4</th>\n",
       "      <td>Concussions are associated with 60% increase i...</td>\n",
       "      <td>1</td>\n",
       "    </tr>\n",
       "    <tr>\n",
       "      <th>...</th>\n",
       "      <td>...</td>\n",
       "      <td>...</td>\n",
       "    </tr>\n",
       "    <tr>\n",
       "      <th>24956</th>\n",
       "      <td>10 Foods We Can Never Eat Again Because of Cli...</td>\n",
       "      <td>5</td>\n",
       "    </tr>\n",
       "    <tr>\n",
       "      <th>24957</th>\n",
       "      <td>10 Foods We Can Never Eat Again Because of Cli...</td>\n",
       "      <td>5</td>\n",
       "    </tr>\n",
       "    <tr>\n",
       "      <th>24958</th>\n",
       "      <td>In an Astonishing Feat, a New Drug Reversed Pa...</td>\n",
       "      <td>1</td>\n",
       "    </tr>\n",
       "    <tr>\n",
       "      <th>24959</th>\n",
       "      <td>Bodies and Minds: Heavier Weight Targets Are D...</td>\n",
       "      <td>6</td>\n",
       "    </tr>\n",
       "    <tr>\n",
       "      <th>24960</th>\n",
       "      <td>The Effects of Sexual Harassment Training on P...</td>\n",
       "      <td>2</td>\n",
       "    </tr>\n",
       "  </tbody>\n",
       "</table>\n",
       "<p>24955 rows × 2 columns</p>\n",
       "</div>"
      ],
      "text/plain": [
       "                                                combined  link_flair_text\n",
       "0      Researchers identify the sodium leak channel n...                1\n",
       "1      New study explores why people drop out or don'...                2\n",
       "2      Dogs can discriminate between human baseline a...                3\n",
       "3      A new look at an extremely rare female infant ...                4\n",
       "4      Concussions are associated with 60% increase i...                1\n",
       "...                                                  ...              ...\n",
       "24956  10 Foods We Can Never Eat Again Because of Cli...                5\n",
       "24957  10 Foods We Can Never Eat Again Because of Cli...                5\n",
       "24958  In an Astonishing Feat, a New Drug Reversed Pa...                1\n",
       "24959  Bodies and Minds: Heavier Weight Targets Are D...                6\n",
       "24960  The Effects of Sexual Harassment Training on P...                2\n",
       "\n",
       "[24955 rows x 2 columns]"
      ]
     },
     "execution_count": 8,
     "metadata": {},
     "output_type": "execute_result"
    }
   ],
   "source": [
    "multi_df"
   ]
  },
  {
   "cell_type": "markdown",
   "id": "b4472373-603f-4ee6-942c-052a33a91bcc",
   "metadata": {
    "tags": []
   },
   "source": [
    "## Activate MLFlow"
   ]
  },
  {
   "cell_type": "code",
   "execution_count": 10,
   "id": "639aba19-d869-4254-8935-70ee4c1f4074",
   "metadata": {},
   "outputs": [
    {
     "name": "stderr",
     "output_type": "stream",
     "text": [
      "2022/10/05 18:46:38 INFO mlflow.tracking.fluent: Autologging successfully enabled for statsmodels.\n",
      "2022/10/05 18:46:38 INFO mlflow.tracking.fluent: Autologging successfully enabled for lightgbm.\n",
      "2022/10/05 18:46:38 INFO mlflow.tracking.fluent: Autologging successfully enabled for sklearn.\n",
      "2022/10/05 18:46:38 INFO mlflow.tracking.fluent: Autologging successfully enabled for tensorflow.\n"
     ]
    }
   ],
   "source": [
    "import mlflow \n",
    "mlflow.set_tracking_uri(\"sqlite:///mlflow.db\") \n",
    "mlflow.set_experiment(\"GA-dsi32-project-3-multiclass1\") \n",
    "mlflow.autolog()"
   ]
  },
  {
   "cell_type": "markdown",
   "id": "29901024-8e7e-4891-88e7-14c149a76b35",
   "metadata": {},
   "source": [
    "## Modeling using pycaret (TFIDF)"
   ]
  },
  {
   "cell_type": "code",
   "execution_count": 11,
   "id": "0dc2dbd8-b346-4170-b7e9-f173146ef98d",
   "metadata": {},
   "outputs": [],
   "source": [
    "preprocess_pipeline = Pipeline([\n",
    "    ('cvec', CountVectorizer(ngram_range = (1,2), stop_words = 'english', token_pattern = '\\w+')), #we chose this based on the previous best model for binary classification. But we remove the binary as this is multiclass, hence, we want to feed more info into model\n",
    "    ('tfidf', TfidfTransformer()) #we use this instead of tfidfvectorizer so that we can choose whether to turn it off or on without affecting the preprocessing done by countvectorizer\n",
    "])\n",
    "\n",
    "\n",
    "preprocess_transformer = ColumnTransformer([\n",
    "    ('pipe', preprocess_pipeline, 'combined')\n",
    "])"
   ]
  },
  {
   "cell_type": "code",
   "execution_count": 12,
   "id": "38e3375d-b5e5-49dd-ace9-d3015cddfb97",
   "metadata": {
    "scrolled": true,
    "tags": []
   },
   "outputs": [
    {
     "data": {
      "text/html": [
       "<style type=\"text/css\">\n",
       "#T_7f994_row15_col1, #T_7f994_row16_col1 {\n",
       "  background-color: lightgreen;\n",
       "}\n",
       "</style>\n",
       "<table id=\"T_7f994\">\n",
       "  <thead>\n",
       "    <tr>\n",
       "      <th class=\"blank level0\" >&nbsp;</th>\n",
       "      <th id=\"T_7f994_level0_col0\" class=\"col_heading level0 col0\" >Description</th>\n",
       "      <th id=\"T_7f994_level0_col1\" class=\"col_heading level0 col1\" >Value</th>\n",
       "    </tr>\n",
       "  </thead>\n",
       "  <tbody>\n",
       "    <tr>\n",
       "      <th id=\"T_7f994_level0_row0\" class=\"row_heading level0 row0\" >0</th>\n",
       "      <td id=\"T_7f994_row0_col0\" class=\"data row0 col0\" >session_id</td>\n",
       "      <td id=\"T_7f994_row0_col1\" class=\"data row0 col1\" >42</td>\n",
       "    </tr>\n",
       "    <tr>\n",
       "      <th id=\"T_7f994_level0_row1\" class=\"row_heading level0 row1\" >1</th>\n",
       "      <td id=\"T_7f994_row1_col0\" class=\"data row1 col0\" >Target</td>\n",
       "      <td id=\"T_7f994_row1_col1\" class=\"data row1 col1\" >link_flair_text</td>\n",
       "    </tr>\n",
       "    <tr>\n",
       "      <th id=\"T_7f994_level0_row2\" class=\"row_heading level0 row2\" >2</th>\n",
       "      <td id=\"T_7f994_row2_col0\" class=\"data row2 col0\" >Target Type</td>\n",
       "      <td id=\"T_7f994_row2_col1\" class=\"data row2 col1\" >Multiclass</td>\n",
       "    </tr>\n",
       "    <tr>\n",
       "      <th id=\"T_7f994_level0_row3\" class=\"row_heading level0 row3\" >3</th>\n",
       "      <td id=\"T_7f994_row3_col0\" class=\"data row3 col0\" >Label Encoded</td>\n",
       "      <td id=\"T_7f994_row3_col1\" class=\"data row3 col1\" >None</td>\n",
       "    </tr>\n",
       "    <tr>\n",
       "      <th id=\"T_7f994_level0_row4\" class=\"row_heading level0 row4\" >4</th>\n",
       "      <td id=\"T_7f994_row4_col0\" class=\"data row4 col0\" >Original Data</td>\n",
       "      <td id=\"T_7f994_row4_col1\" class=\"data row4 col1\" >(24955, 2)</td>\n",
       "    </tr>\n",
       "    <tr>\n",
       "      <th id=\"T_7f994_level0_row5\" class=\"row_heading level0 row5\" >5</th>\n",
       "      <td id=\"T_7f994_row5_col0\" class=\"data row5 col0\" >Missing Values</td>\n",
       "      <td id=\"T_7f994_row5_col1\" class=\"data row5 col1\" >False</td>\n",
       "    </tr>\n",
       "    <tr>\n",
       "      <th id=\"T_7f994_level0_row6\" class=\"row_heading level0 row6\" >6</th>\n",
       "      <td id=\"T_7f994_row6_col0\" class=\"data row6 col0\" >Numeric Features</td>\n",
       "      <td id=\"T_7f994_row6_col1\" class=\"data row6 col1\" >0</td>\n",
       "    </tr>\n",
       "    <tr>\n",
       "      <th id=\"T_7f994_level0_row7\" class=\"row_heading level0 row7\" >7</th>\n",
       "      <td id=\"T_7f994_row7_col0\" class=\"data row7 col0\" >Categorical Features</td>\n",
       "      <td id=\"T_7f994_row7_col1\" class=\"data row7 col1\" >1</td>\n",
       "    </tr>\n",
       "    <tr>\n",
       "      <th id=\"T_7f994_level0_row8\" class=\"row_heading level0 row8\" >8</th>\n",
       "      <td id=\"T_7f994_row8_col0\" class=\"data row8 col0\" >Transformed Train Set</td>\n",
       "      <td id=\"T_7f994_row8_col1\" class=\"data row8 col1\" >(17468, 1)</td>\n",
       "    </tr>\n",
       "    <tr>\n",
       "      <th id=\"T_7f994_level0_row9\" class=\"row_heading level0 row9\" >9</th>\n",
       "      <td id=\"T_7f994_row9_col0\" class=\"data row9 col0\" >Transformed Test Set</td>\n",
       "      <td id=\"T_7f994_row9_col1\" class=\"data row9 col1\" >(7487, 1)</td>\n",
       "    </tr>\n",
       "    <tr>\n",
       "      <th id=\"T_7f994_level0_row10\" class=\"row_heading level0 row10\" >10</th>\n",
       "      <td id=\"T_7f994_row10_col0\" class=\"data row10 col0\" >Shuffle Train-Test</td>\n",
       "      <td id=\"T_7f994_row10_col1\" class=\"data row10 col1\" >True</td>\n",
       "    </tr>\n",
       "    <tr>\n",
       "      <th id=\"T_7f994_level0_row11\" class=\"row_heading level0 row11\" >11</th>\n",
       "      <td id=\"T_7f994_row11_col0\" class=\"data row11 col0\" >Stratify Train-Test</td>\n",
       "      <td id=\"T_7f994_row11_col1\" class=\"data row11 col1\" >False</td>\n",
       "    </tr>\n",
       "    <tr>\n",
       "      <th id=\"T_7f994_level0_row12\" class=\"row_heading level0 row12\" >12</th>\n",
       "      <td id=\"T_7f994_row12_col0\" class=\"data row12 col0\" >Fold Generator</td>\n",
       "      <td id=\"T_7f994_row12_col1\" class=\"data row12 col1\" >StratifiedKFold</td>\n",
       "    </tr>\n",
       "    <tr>\n",
       "      <th id=\"T_7f994_level0_row13\" class=\"row_heading level0 row13\" >13</th>\n",
       "      <td id=\"T_7f994_row13_col0\" class=\"data row13 col0\" >Fold Number</td>\n",
       "      <td id=\"T_7f994_row13_col1\" class=\"data row13 col1\" >5</td>\n",
       "    </tr>\n",
       "    <tr>\n",
       "      <th id=\"T_7f994_level0_row14\" class=\"row_heading level0 row14\" >14</th>\n",
       "      <td id=\"T_7f994_row14_col0\" class=\"data row14 col0\" >CPU Jobs</td>\n",
       "      <td id=\"T_7f994_row14_col1\" class=\"data row14 col1\" >-1</td>\n",
       "    </tr>\n",
       "    <tr>\n",
       "      <th id=\"T_7f994_level0_row15\" class=\"row_heading level0 row15\" >15</th>\n",
       "      <td id=\"T_7f994_row15_col0\" class=\"data row15 col0\" >Use GPU</td>\n",
       "      <td id=\"T_7f994_row15_col1\" class=\"data row15 col1\" >True</td>\n",
       "    </tr>\n",
       "    <tr>\n",
       "      <th id=\"T_7f994_level0_row16\" class=\"row_heading level0 row16\" >16</th>\n",
       "      <td id=\"T_7f994_row16_col0\" class=\"data row16 col0\" >Log Experiment</td>\n",
       "      <td id=\"T_7f994_row16_col1\" class=\"data row16 col1\" >True</td>\n",
       "    </tr>\n",
       "    <tr>\n",
       "      <th id=\"T_7f994_level0_row17\" class=\"row_heading level0 row17\" >17</th>\n",
       "      <td id=\"T_7f994_row17_col0\" class=\"data row17 col0\" >Experiment Name</td>\n",
       "      <td id=\"T_7f994_row17_col1\" class=\"data row17 col1\" >GA-dsi32-project-3-multiclass1</td>\n",
       "    </tr>\n",
       "    <tr>\n",
       "      <th id=\"T_7f994_level0_row18\" class=\"row_heading level0 row18\" >18</th>\n",
       "      <td id=\"T_7f994_row18_col0\" class=\"data row18 col0\" >USI</td>\n",
       "      <td id=\"T_7f994_row18_col1\" class=\"data row18 col1\" >6491</td>\n",
       "    </tr>\n",
       "    <tr>\n",
       "      <th id=\"T_7f994_level0_row19\" class=\"row_heading level0 row19\" >19</th>\n",
       "      <td id=\"T_7f994_row19_col0\" class=\"data row19 col0\" >Fix Imbalance</td>\n",
       "      <td id=\"T_7f994_row19_col1\" class=\"data row19 col1\" >False</td>\n",
       "    </tr>\n",
       "    <tr>\n",
       "      <th id=\"T_7f994_level0_row20\" class=\"row_heading level0 row20\" >20</th>\n",
       "      <td id=\"T_7f994_row20_col0\" class=\"data row20 col0\" >Fix Imbalance Method</td>\n",
       "      <td id=\"T_7f994_row20_col1\" class=\"data row20 col1\" >SMOTE</td>\n",
       "    </tr>\n",
       "  </tbody>\n",
       "</table>\n"
      ],
      "text/plain": [
       "<pandas.io.formats.style.Styler at 0x2474d2302b0>"
      ]
     },
     "metadata": {},
     "output_type": "display_data"
    }
   ],
   "source": [
    "s = setup(multi_df, \n",
    "          target = 'link_flair_text',\n",
    "          session_id = 42,\n",
    "          use_gpu = True,\n",
    "          fold = 5,\n",
    "          log_experiment = True,\n",
    "          experiment_name = 'GA-dsi32-project-3-multiclass1',\n",
    "          silent = True,\n",
    "          custom_pipeline = preprocess_transformer,\n",
    "          preprocess = False #turn off the preprocess done by pycaret except for train_test_split and custom transformations passed in custom_pipeline param\n",
    "         )"
   ]
  },
  {
   "cell_type": "code",
   "execution_count": 13,
   "id": "55b8940d-5dac-4803-8989-d1b8425a990a",
   "metadata": {
    "scrolled": true,
    "tags": []
   },
   "outputs": [
    {
     "data": {
      "text/html": [
       "<style type=\"text/css\">\n",
       "#T_4a016 th {\n",
       "  text-align: left;\n",
       "}\n",
       "#T_4a016_row0_col0, #T_4a016_row0_col2, #T_4a016_row1_col0, #T_4a016_row1_col1, #T_4a016_row1_col2, #T_4a016_row1_col3, #T_4a016_row1_col4, #T_4a016_row1_col5, #T_4a016_row1_col6, #T_4a016_row1_col7, #T_4a016_row2_col0, #T_4a016_row2_col1, #T_4a016_row2_col3, #T_4a016_row2_col4, #T_4a016_row2_col5, #T_4a016_row2_col6, #T_4a016_row2_col7, #T_4a016_row3_col0, #T_4a016_row3_col1, #T_4a016_row3_col2, #T_4a016_row3_col3, #T_4a016_row3_col4, #T_4a016_row3_col5, #T_4a016_row3_col6, #T_4a016_row3_col7, #T_4a016_row4_col0, #T_4a016_row4_col1, #T_4a016_row4_col2, #T_4a016_row4_col3, #T_4a016_row4_col4, #T_4a016_row4_col5, #T_4a016_row4_col6, #T_4a016_row4_col7, #T_4a016_row5_col0, #T_4a016_row5_col1, #T_4a016_row5_col2, #T_4a016_row5_col3, #T_4a016_row5_col4, #T_4a016_row5_col5, #T_4a016_row5_col6, #T_4a016_row5_col7, #T_4a016_row6_col0, #T_4a016_row6_col1, #T_4a016_row6_col2, #T_4a016_row6_col3, #T_4a016_row6_col4, #T_4a016_row6_col5, #T_4a016_row6_col6, #T_4a016_row6_col7, #T_4a016_row7_col0, #T_4a016_row7_col1, #T_4a016_row7_col2, #T_4a016_row7_col3, #T_4a016_row7_col4, #T_4a016_row7_col5, #T_4a016_row7_col6, #T_4a016_row7_col7, #T_4a016_row8_col0, #T_4a016_row8_col1, #T_4a016_row8_col2, #T_4a016_row8_col3, #T_4a016_row8_col4, #T_4a016_row8_col5, #T_4a016_row8_col6, #T_4a016_row8_col7, #T_4a016_row9_col0, #T_4a016_row9_col1, #T_4a016_row9_col2, #T_4a016_row9_col3, #T_4a016_row9_col4, #T_4a016_row9_col5, #T_4a016_row9_col6, #T_4a016_row9_col7, #T_4a016_row10_col0, #T_4a016_row10_col1, #T_4a016_row10_col2, #T_4a016_row10_col3, #T_4a016_row10_col4, #T_4a016_row10_col5, #T_4a016_row10_col6, #T_4a016_row10_col7 {\n",
       "  text-align: left;\n",
       "}\n",
       "#T_4a016_row0_col1, #T_4a016_row0_col3, #T_4a016_row0_col4, #T_4a016_row0_col5, #T_4a016_row0_col6, #T_4a016_row0_col7, #T_4a016_row2_col2 {\n",
       "  text-align: left;\n",
       "  background-color: yellow;\n",
       "}\n",
       "#T_4a016_row0_col8, #T_4a016_row2_col8, #T_4a016_row3_col8, #T_4a016_row4_col8, #T_4a016_row5_col8, #T_4a016_row6_col8, #T_4a016_row7_col8, #T_4a016_row8_col8, #T_4a016_row9_col8, #T_4a016_row10_col8 {\n",
       "  text-align: left;\n",
       "  background-color: lightgrey;\n",
       "}\n",
       "#T_4a016_row1_col8 {\n",
       "  text-align: left;\n",
       "  background-color: yellow;\n",
       "  background-color: lightgrey;\n",
       "}\n",
       "</style>\n",
       "<table id=\"T_4a016\">\n",
       "  <thead>\n",
       "    <tr>\n",
       "      <th class=\"blank level0\" >&nbsp;</th>\n",
       "      <th id=\"T_4a016_level0_col0\" class=\"col_heading level0 col0\" >Model</th>\n",
       "      <th id=\"T_4a016_level0_col1\" class=\"col_heading level0 col1\" >Accuracy</th>\n",
       "      <th id=\"T_4a016_level0_col2\" class=\"col_heading level0 col2\" >AUC</th>\n",
       "      <th id=\"T_4a016_level0_col3\" class=\"col_heading level0 col3\" >Recall</th>\n",
       "      <th id=\"T_4a016_level0_col4\" class=\"col_heading level0 col4\" >Prec.</th>\n",
       "      <th id=\"T_4a016_level0_col5\" class=\"col_heading level0 col5\" >F1</th>\n",
       "      <th id=\"T_4a016_level0_col6\" class=\"col_heading level0 col6\" >Kappa</th>\n",
       "      <th id=\"T_4a016_level0_col7\" class=\"col_heading level0 col7\" >MCC</th>\n",
       "      <th id=\"T_4a016_level0_col8\" class=\"col_heading level0 col8\" >TT (Sec)</th>\n",
       "    </tr>\n",
       "  </thead>\n",
       "  <tbody>\n",
       "    <tr>\n",
       "      <th id=\"T_4a016_level0_row0\" class=\"row_heading level0 row0\" >ridge</th>\n",
       "      <td id=\"T_4a016_row0_col0\" class=\"data row0 col0\" >Ridge Classifier</td>\n",
       "      <td id=\"T_4a016_row0_col1\" class=\"data row0 col1\" >0.5252</td>\n",
       "      <td id=\"T_4a016_row0_col2\" class=\"data row0 col2\" >0.0000</td>\n",
       "      <td id=\"T_4a016_row0_col3\" class=\"data row0 col3\" >0.3795</td>\n",
       "      <td id=\"T_4a016_row0_col4\" class=\"data row0 col4\" >0.5151</td>\n",
       "      <td id=\"T_4a016_row0_col5\" class=\"data row0 col5\" >0.5089</td>\n",
       "      <td id=\"T_4a016_row0_col6\" class=\"data row0 col6\" >0.4775</td>\n",
       "      <td id=\"T_4a016_row0_col7\" class=\"data row0 col7\" >0.4787</td>\n",
       "      <td id=\"T_4a016_row0_col8\" class=\"data row0 col8\" >2.5140</td>\n",
       "    </tr>\n",
       "    <tr>\n",
       "      <th id=\"T_4a016_level0_row1\" class=\"row_heading level0 row1\" >svm</th>\n",
       "      <td id=\"T_4a016_row1_col0\" class=\"data row1 col0\" >SVM - Linear Kernel</td>\n",
       "      <td id=\"T_4a016_row1_col1\" class=\"data row1 col1\" >0.5208</td>\n",
       "      <td id=\"T_4a016_row1_col2\" class=\"data row1 col2\" >0.0000</td>\n",
       "      <td id=\"T_4a016_row1_col3\" class=\"data row1 col3\" >0.3776</td>\n",
       "      <td id=\"T_4a016_row1_col4\" class=\"data row1 col4\" >0.5070</td>\n",
       "      <td id=\"T_4a016_row1_col5\" class=\"data row1 col5\" >0.5016</td>\n",
       "      <td id=\"T_4a016_row1_col6\" class=\"data row1 col6\" >0.4734</td>\n",
       "      <td id=\"T_4a016_row1_col7\" class=\"data row1 col7\" >0.4747</td>\n",
       "      <td id=\"T_4a016_row1_col8\" class=\"data row1 col8\" >1.0260</td>\n",
       "    </tr>\n",
       "    <tr>\n",
       "      <th id=\"T_4a016_level0_row2\" class=\"row_heading level0 row2\" >lr</th>\n",
       "      <td id=\"T_4a016_row2_col0\" class=\"data row2 col0\" >Logistic Regression</td>\n",
       "      <td id=\"T_4a016_row2_col1\" class=\"data row2 col1\" >0.4712</td>\n",
       "      <td id=\"T_4a016_row2_col2\" class=\"data row2 col2\" >0.1789</td>\n",
       "      <td id=\"T_4a016_row2_col3\" class=\"data row2 col3\" >0.2591</td>\n",
       "      <td id=\"T_4a016_row2_col4\" class=\"data row2 col4\" >0.5003</td>\n",
       "      <td id=\"T_4a016_row2_col5\" class=\"data row2 col5\" >0.4348</td>\n",
       "      <td id=\"T_4a016_row2_col6\" class=\"data row2 col6\" >0.4038</td>\n",
       "      <td id=\"T_4a016_row2_col7\" class=\"data row2 col7\" >0.4143</td>\n",
       "      <td id=\"T_4a016_row2_col8\" class=\"data row2 col8\" >132.9820</td>\n",
       "    </tr>\n",
       "    <tr>\n",
       "      <th id=\"T_4a016_level0_row3\" class=\"row_heading level0 row3\" >et</th>\n",
       "      <td id=\"T_4a016_row3_col0\" class=\"data row3 col0\" >Extra Trees Classifier</td>\n",
       "      <td id=\"T_4a016_row3_col1\" class=\"data row3 col1\" >0.4654</td>\n",
       "      <td id=\"T_4a016_row3_col2\" class=\"data row3 col2\" >0.1722</td>\n",
       "      <td id=\"T_4a016_row3_col3\" class=\"data row3 col3\" >0.3073</td>\n",
       "      <td id=\"T_4a016_row3_col4\" class=\"data row3 col4\" >0.4841</td>\n",
       "      <td id=\"T_4a016_row3_col5\" class=\"data row3 col5\" >0.4457</td>\n",
       "      <td id=\"T_4a016_row3_col6\" class=\"data row3 col6\" >0.4036</td>\n",
       "      <td id=\"T_4a016_row3_col7\" class=\"data row3 col7\" >0.4095</td>\n",
       "      <td id=\"T_4a016_row3_col8\" class=\"data row3 col8\" >34.1480</td>\n",
       "    </tr>\n",
       "    <tr>\n",
       "      <th id=\"T_4a016_level0_row4\" class=\"row_heading level0 row4\" >rf</th>\n",
       "      <td id=\"T_4a016_row4_col0\" class=\"data row4 col0\" >Random Forest Classifier</td>\n",
       "      <td id=\"T_4a016_row4_col1\" class=\"data row4 col1\" >0.4574</td>\n",
       "      <td id=\"T_4a016_row4_col2\" class=\"data row4 col2\" >0.1725</td>\n",
       "      <td id=\"T_4a016_row4_col3\" class=\"data row4 col3\" >0.2977</td>\n",
       "      <td id=\"T_4a016_row4_col4\" class=\"data row4 col4\" >0.4733</td>\n",
       "      <td id=\"T_4a016_row4_col5\" class=\"data row4 col5\" >0.4365</td>\n",
       "      <td id=\"T_4a016_row4_col6\" class=\"data row4 col6\" >0.3946</td>\n",
       "      <td id=\"T_4a016_row4_col7\" class=\"data row4 col7\" >0.4003</td>\n",
       "      <td id=\"T_4a016_row4_col8\" class=\"data row4 col8\" >18.7600</td>\n",
       "    </tr>\n",
       "    <tr>\n",
       "      <th id=\"T_4a016_level0_row5\" class=\"row_heading level0 row5\" >lightgbm</th>\n",
       "      <td id=\"T_4a016_row5_col0\" class=\"data row5 col0\" >Light Gradient Boosting Machine</td>\n",
       "      <td id=\"T_4a016_row5_col1\" class=\"data row5 col1\" >0.4386</td>\n",
       "      <td id=\"T_4a016_row5_col2\" class=\"data row5 col2\" >0.1717</td>\n",
       "      <td id=\"T_4a016_row5_col3\" class=\"data row5 col3\" >0.3203</td>\n",
       "      <td id=\"T_4a016_row5_col4\" class=\"data row5 col4\" >0.4323</td>\n",
       "      <td id=\"T_4a016_row5_col5\" class=\"data row5 col5\" >0.4307</td>\n",
       "      <td id=\"T_4a016_row5_col6\" class=\"data row5 col6\" >0.3837</td>\n",
       "      <td id=\"T_4a016_row5_col7\" class=\"data row5 col7\" >0.3842</td>\n",
       "      <td id=\"T_4a016_row5_col8\" class=\"data row5 col8\" >44.5040</td>\n",
       "    </tr>\n",
       "    <tr>\n",
       "      <th id=\"T_4a016_level0_row6\" class=\"row_heading level0 row6\" >gbc</th>\n",
       "      <td id=\"T_4a016_row6_col0\" class=\"data row6 col0\" >Gradient Boosting Classifier</td>\n",
       "      <td id=\"T_4a016_row6_col1\" class=\"data row6 col1\" >0.4270</td>\n",
       "      <td id=\"T_4a016_row6_col2\" class=\"data row6 col2\" >0.1623</td>\n",
       "      <td id=\"T_4a016_row6_col3\" class=\"data row6 col3\" >0.3191</td>\n",
       "      <td id=\"T_4a016_row6_col4\" class=\"data row6 col4\" >0.4491</td>\n",
       "      <td id=\"T_4a016_row6_col5\" class=\"data row6 col5\" >0.4225</td>\n",
       "      <td id=\"T_4a016_row6_col6\" class=\"data row6 col6\" >0.3629</td>\n",
       "      <td id=\"T_4a016_row6_col7\" class=\"data row6 col7\" >0.3694</td>\n",
       "      <td id=\"T_4a016_row6_col8\" class=\"data row6 col8\" >354.7300</td>\n",
       "    </tr>\n",
       "    <tr>\n",
       "      <th id=\"T_4a016_level0_row7\" class=\"row_heading level0 row7\" >knn</th>\n",
       "      <td id=\"T_4a016_row7_col0\" class=\"data row7 col0\" >K Neighbors Classifier</td>\n",
       "      <td id=\"T_4a016_row7_col1\" class=\"data row7 col1\" >0.3883</td>\n",
       "      <td id=\"T_4a016_row7_col2\" class=\"data row7 col2\" >0.1544</td>\n",
       "      <td id=\"T_4a016_row7_col3\" class=\"data row7 col3\" >0.2724</td>\n",
       "      <td id=\"T_4a016_row7_col4\" class=\"data row7 col4\" >0.3940</td>\n",
       "      <td id=\"T_4a016_row7_col5\" class=\"data row7 col5\" >0.3772</td>\n",
       "      <td id=\"T_4a016_row7_col6\" class=\"data row7 col6\" >0.3266</td>\n",
       "      <td id=\"T_4a016_row7_col7\" class=\"data row7 col7\" >0.3283</td>\n",
       "      <td id=\"T_4a016_row7_col8\" class=\"data row7 col8\" >3.0940</td>\n",
       "    </tr>\n",
       "    <tr>\n",
       "      <th id=\"T_4a016_level0_row8\" class=\"row_heading level0 row8\" >dt</th>\n",
       "      <td id=\"T_4a016_row8_col0\" class=\"data row8 col0\" >Decision Tree Classifier</td>\n",
       "      <td id=\"T_4a016_row8_col1\" class=\"data row8 col1\" >0.3395</td>\n",
       "      <td id=\"T_4a016_row8_col2\" class=\"data row8 col2\" >0.1284</td>\n",
       "      <td id=\"T_4a016_row8_col3\" class=\"data row8 col3\" >0.2406</td>\n",
       "      <td id=\"T_4a016_row8_col4\" class=\"data row8 col4\" >0.3403</td>\n",
       "      <td id=\"T_4a016_row8_col5\" class=\"data row8 col5\" >0.3374</td>\n",
       "      <td id=\"T_4a016_row8_col6\" class=\"data row8 col6\" >0.2783</td>\n",
       "      <td id=\"T_4a016_row8_col7\" class=\"data row8 col7\" >0.2785</td>\n",
       "      <td id=\"T_4a016_row8_col8\" class=\"data row8 col8\" >13.7420</td>\n",
       "    </tr>\n",
       "    <tr>\n",
       "      <th id=\"T_4a016_level0_row9\" class=\"row_heading level0 row9\" >ada</th>\n",
       "      <td id=\"T_4a016_row9_col0\" class=\"data row9 col0\" >Ada Boost Classifier</td>\n",
       "      <td id=\"T_4a016_row9_col1\" class=\"data row9 col1\" >0.1877</td>\n",
       "      <td id=\"T_4a016_row9_col2\" class=\"data row9 col2\" >0.1034</td>\n",
       "      <td id=\"T_4a016_row9_col3\" class=\"data row9 col3\" >0.0725</td>\n",
       "      <td id=\"T_4a016_row9_col4\" class=\"data row9 col4\" >0.0481</td>\n",
       "      <td id=\"T_4a016_row9_col5\" class=\"data row9 col5\" >0.0629</td>\n",
       "      <td id=\"T_4a016_row9_col6\" class=\"data row9 col6\" >0.0073</td>\n",
       "      <td id=\"T_4a016_row9_col7\" class=\"data row9 col7\" >0.0327</td>\n",
       "      <td id=\"T_4a016_row9_col8\" class=\"data row9 col8\" >4.7940</td>\n",
       "    </tr>\n",
       "    <tr>\n",
       "      <th id=\"T_4a016_level0_row10\" class=\"row_heading level0 row10\" >dummy</th>\n",
       "      <td id=\"T_4a016_row10_col0\" class=\"data row10 col0\" >Dummy Classifier</td>\n",
       "      <td id=\"T_4a016_row10_col1\" class=\"data row10 col1\" >0.1834</td>\n",
       "      <td id=\"T_4a016_row10_col2\" class=\"data row10 col2\" >0.1000</td>\n",
       "      <td id=\"T_4a016_row10_col3\" class=\"data row10 col3\" >0.0397</td>\n",
       "      <td id=\"T_4a016_row10_col4\" class=\"data row10 col4\" >0.0336</td>\n",
       "      <td id=\"T_4a016_row10_col5\" class=\"data row10 col5\" >0.0568</td>\n",
       "      <td id=\"T_4a016_row10_col6\" class=\"data row10 col6\" >0.0000</td>\n",
       "      <td id=\"T_4a016_row10_col7\" class=\"data row10 col7\" >0.0000</td>\n",
       "      <td id=\"T_4a016_row10_col8\" class=\"data row10 col8\" >1.0700</td>\n",
       "    </tr>\n",
       "  </tbody>\n",
       "</table>\n"
      ],
      "text/plain": [
       "<pandas.io.formats.style.Styler at 0x2474d238bb0>"
      ]
     },
     "metadata": {},
     "output_type": "display_data"
    },
    {
     "name": "stdout",
     "output_type": "stream",
     "text": [
      "CPU times: total: 1h 56min 32s\n",
      "Wall time: 1h 23min 4s\n",
      "Error in callback <function install_repl_displayhook.<locals>.post_execute at 0x00000247523CA9D0> (for post_execute):\n"
     ]
    },
    {
     "ename": "ValueError",
     "evalue": "Image size of 640x1973910 pixels is too large. It must be less than 2^16 in each direction.",
     "output_type": "error",
     "traceback": [
      "\u001b[1;31m---------------------------------------------------------------------------\u001b[0m",
      "\u001b[1;31mValueError\u001b[0m                                Traceback (most recent call last)",
      "File \u001b[1;32m~\\AppData\\Roaming\\Python\\Python38\\site-packages\\matplotlib\\pyplot.py:137\u001b[0m, in \u001b[0;36minstall_repl_displayhook.<locals>.post_execute\u001b[1;34m()\u001b[0m\n\u001b[0;32m    135\u001b[0m \u001b[38;5;28;01mdef\u001b[39;00m \u001b[38;5;21mpost_execute\u001b[39m():\n\u001b[0;32m    136\u001b[0m     \u001b[38;5;28;01mif\u001b[39;00m matplotlib\u001b[38;5;241m.\u001b[39mis_interactive():\n\u001b[1;32m--> 137\u001b[0m         \u001b[43mdraw_all\u001b[49m\u001b[43m(\u001b[49m\u001b[43m)\u001b[49m\n",
      "File \u001b[1;32m~\\AppData\\Roaming\\Python\\Python38\\site-packages\\matplotlib\\_pylab_helpers.py:141\u001b[0m, in \u001b[0;36mGcf.draw_all\u001b[1;34m(cls, force)\u001b[0m\n\u001b[0;32m    139\u001b[0m \u001b[38;5;28;01mfor\u001b[39;00m manager \u001b[38;5;129;01min\u001b[39;00m \u001b[38;5;28mcls\u001b[39m\u001b[38;5;241m.\u001b[39mget_all_fig_managers():\n\u001b[0;32m    140\u001b[0m     \u001b[38;5;28;01mif\u001b[39;00m force \u001b[38;5;129;01mor\u001b[39;00m manager\u001b[38;5;241m.\u001b[39mcanvas\u001b[38;5;241m.\u001b[39mfigure\u001b[38;5;241m.\u001b[39mstale:\n\u001b[1;32m--> 141\u001b[0m         \u001b[43mmanager\u001b[49m\u001b[38;5;241;43m.\u001b[39;49m\u001b[43mcanvas\u001b[49m\u001b[38;5;241;43m.\u001b[39;49m\u001b[43mdraw_idle\u001b[49m\u001b[43m(\u001b[49m\u001b[43m)\u001b[49m\n",
      "File \u001b[1;32m~\\AppData\\Roaming\\Python\\Python38\\site-packages\\matplotlib\\backend_bases.py:2060\u001b[0m, in \u001b[0;36mFigureCanvasBase.draw_idle\u001b[1;34m(self, *args, **kwargs)\u001b[0m\n\u001b[0;32m   2058\u001b[0m \u001b[38;5;28;01mif\u001b[39;00m \u001b[38;5;129;01mnot\u001b[39;00m \u001b[38;5;28mself\u001b[39m\u001b[38;5;241m.\u001b[39m_is_idle_drawing:\n\u001b[0;32m   2059\u001b[0m     \u001b[38;5;28;01mwith\u001b[39;00m \u001b[38;5;28mself\u001b[39m\u001b[38;5;241m.\u001b[39m_idle_draw_cntx():\n\u001b[1;32m-> 2060\u001b[0m         \u001b[38;5;28;43mself\u001b[39;49m\u001b[38;5;241;43m.\u001b[39;49m\u001b[43mdraw\u001b[49m\u001b[43m(\u001b[49m\u001b[38;5;241;43m*\u001b[39;49m\u001b[43margs\u001b[49m\u001b[43m,\u001b[49m\u001b[43m \u001b[49m\u001b[38;5;241;43m*\u001b[39;49m\u001b[38;5;241;43m*\u001b[39;49m\u001b[43mkwargs\u001b[49m\u001b[43m)\u001b[49m\n",
      "File \u001b[1;32m~\\AppData\\Roaming\\Python\\Python38\\site-packages\\matplotlib\\backends\\backend_agg.py:431\u001b[0m, in \u001b[0;36mFigureCanvasAgg.draw\u001b[1;34m(self)\u001b[0m\n\u001b[0;32m    429\u001b[0m \u001b[38;5;28;01mdef\u001b[39;00m \u001b[38;5;21mdraw\u001b[39m(\u001b[38;5;28mself\u001b[39m):\n\u001b[0;32m    430\u001b[0m     \u001b[38;5;66;03m# docstring inherited\u001b[39;00m\n\u001b[1;32m--> 431\u001b[0m     \u001b[38;5;28mself\u001b[39m\u001b[38;5;241m.\u001b[39mrenderer \u001b[38;5;241m=\u001b[39m \u001b[38;5;28;43mself\u001b[39;49m\u001b[38;5;241;43m.\u001b[39;49m\u001b[43mget_renderer\u001b[49m\u001b[43m(\u001b[49m\u001b[43mcleared\u001b[49m\u001b[38;5;241;43m=\u001b[39;49m\u001b[38;5;28;43;01mTrue\u001b[39;49;00m\u001b[43m)\u001b[49m\n\u001b[0;32m    432\u001b[0m     \u001b[38;5;66;03m# Acquire a lock on the shared font cache.\u001b[39;00m\n\u001b[0;32m    433\u001b[0m     \u001b[38;5;28;01mwith\u001b[39;00m RendererAgg\u001b[38;5;241m.\u001b[39mlock, \\\n\u001b[0;32m    434\u001b[0m          (\u001b[38;5;28mself\u001b[39m\u001b[38;5;241m.\u001b[39mtoolbar\u001b[38;5;241m.\u001b[39m_wait_cursor_for_draw_cm() \u001b[38;5;28;01mif\u001b[39;00m \u001b[38;5;28mself\u001b[39m\u001b[38;5;241m.\u001b[39mtoolbar\n\u001b[0;32m    435\u001b[0m           \u001b[38;5;28;01melse\u001b[39;00m nullcontext()):\n",
      "File \u001b[1;32m~\\AppData\\Roaming\\Python\\Python38\\site-packages\\matplotlib\\backends\\backend_agg.py:447\u001b[0m, in \u001b[0;36mFigureCanvasAgg.get_renderer\u001b[1;34m(self, cleared)\u001b[0m\n\u001b[0;32m    444\u001b[0m reuse_renderer \u001b[38;5;241m=\u001b[39m (\u001b[38;5;28mhasattr\u001b[39m(\u001b[38;5;28mself\u001b[39m, \u001b[38;5;124m\"\u001b[39m\u001b[38;5;124mrenderer\u001b[39m\u001b[38;5;124m\"\u001b[39m)\n\u001b[0;32m    445\u001b[0m                   \u001b[38;5;129;01mand\u001b[39;00m \u001b[38;5;28mgetattr\u001b[39m(\u001b[38;5;28mself\u001b[39m, \u001b[38;5;124m\"\u001b[39m\u001b[38;5;124m_lastKey\u001b[39m\u001b[38;5;124m\"\u001b[39m, \u001b[38;5;28;01mNone\u001b[39;00m) \u001b[38;5;241m==\u001b[39m key)\n\u001b[0;32m    446\u001b[0m \u001b[38;5;28;01mif\u001b[39;00m \u001b[38;5;129;01mnot\u001b[39;00m reuse_renderer:\n\u001b[1;32m--> 447\u001b[0m     \u001b[38;5;28mself\u001b[39m\u001b[38;5;241m.\u001b[39mrenderer \u001b[38;5;241m=\u001b[39m \u001b[43mRendererAgg\u001b[49m\u001b[43m(\u001b[49m\u001b[43mw\u001b[49m\u001b[43m,\u001b[49m\u001b[43m \u001b[49m\u001b[43mh\u001b[49m\u001b[43m,\u001b[49m\u001b[43m \u001b[49m\u001b[38;5;28;43mself\u001b[39;49m\u001b[38;5;241;43m.\u001b[39;49m\u001b[43mfigure\u001b[49m\u001b[38;5;241;43m.\u001b[39;49m\u001b[43mdpi\u001b[49m\u001b[43m)\u001b[49m\n\u001b[0;32m    448\u001b[0m     \u001b[38;5;28mself\u001b[39m\u001b[38;5;241m.\u001b[39m_lastKey \u001b[38;5;241m=\u001b[39m key\n\u001b[0;32m    449\u001b[0m \u001b[38;5;28;01melif\u001b[39;00m cleared:\n",
      "File \u001b[1;32m~\\AppData\\Roaming\\Python\\Python38\\site-packages\\matplotlib\\backends\\backend_agg.py:93\u001b[0m, in \u001b[0;36mRendererAgg.__init__\u001b[1;34m(self, width, height, dpi)\u001b[0m\n\u001b[0;32m     91\u001b[0m \u001b[38;5;28mself\u001b[39m\u001b[38;5;241m.\u001b[39mwidth \u001b[38;5;241m=\u001b[39m width\n\u001b[0;32m     92\u001b[0m \u001b[38;5;28mself\u001b[39m\u001b[38;5;241m.\u001b[39mheight \u001b[38;5;241m=\u001b[39m height\n\u001b[1;32m---> 93\u001b[0m \u001b[38;5;28mself\u001b[39m\u001b[38;5;241m.\u001b[39m_renderer \u001b[38;5;241m=\u001b[39m \u001b[43m_RendererAgg\u001b[49m\u001b[43m(\u001b[49m\u001b[38;5;28;43mint\u001b[39;49m\u001b[43m(\u001b[49m\u001b[43mwidth\u001b[49m\u001b[43m)\u001b[49m\u001b[43m,\u001b[49m\u001b[43m \u001b[49m\u001b[38;5;28;43mint\u001b[39;49m\u001b[43m(\u001b[49m\u001b[43mheight\u001b[49m\u001b[43m)\u001b[49m\u001b[43m,\u001b[49m\u001b[43m \u001b[49m\u001b[43mdpi\u001b[49m\u001b[43m)\u001b[49m\n\u001b[0;32m     94\u001b[0m \u001b[38;5;28mself\u001b[39m\u001b[38;5;241m.\u001b[39m_filter_renderers \u001b[38;5;241m=\u001b[39m []\n\u001b[0;32m     96\u001b[0m \u001b[38;5;28mself\u001b[39m\u001b[38;5;241m.\u001b[39m_update_methods()\n",
      "\u001b[1;31mValueError\u001b[0m: Image size of 640x1973910 pixels is too large. It must be less than 2^16 in each direction."
     ]
    },
    {
     "ename": "ValueError",
     "evalue": "Image size of 640x1973910 pixels is too large. It must be less than 2^16 in each direction.",
     "output_type": "error",
     "traceback": [
      "\u001b[1;31m---------------------------------------------------------------------------\u001b[0m",
      "\u001b[1;31mValueError\u001b[0m                                Traceback (most recent call last)",
      "File \u001b[1;32m~\\anaconda3\\envs\\dsi-sg\\lib\\site-packages\\IPython\\core\\formatters.py:339\u001b[0m, in \u001b[0;36mBaseFormatter.__call__\u001b[1;34m(self, obj)\u001b[0m\n\u001b[0;32m    337\u001b[0m     \u001b[38;5;28;01mpass\u001b[39;00m\n\u001b[0;32m    338\u001b[0m \u001b[38;5;28;01melse\u001b[39;00m:\n\u001b[1;32m--> 339\u001b[0m     \u001b[38;5;28;01mreturn\u001b[39;00m \u001b[43mprinter\u001b[49m\u001b[43m(\u001b[49m\u001b[43mobj\u001b[49m\u001b[43m)\u001b[49m\n\u001b[0;32m    340\u001b[0m \u001b[38;5;66;03m# Finally look for special method names\u001b[39;00m\n\u001b[0;32m    341\u001b[0m method \u001b[38;5;241m=\u001b[39m get_real_method(obj, \u001b[38;5;28mself\u001b[39m\u001b[38;5;241m.\u001b[39mprint_method)\n",
      "File \u001b[1;32m~\\anaconda3\\envs\\dsi-sg\\lib\\site-packages\\IPython\\core\\pylabtools.py:151\u001b[0m, in \u001b[0;36mprint_figure\u001b[1;34m(fig, fmt, bbox_inches, base64, **kwargs)\u001b[0m\n\u001b[0;32m    148\u001b[0m     \u001b[38;5;28;01mfrom\u001b[39;00m \u001b[38;5;21;01mmatplotlib\u001b[39;00m\u001b[38;5;21;01m.\u001b[39;00m\u001b[38;5;21;01mbackend_bases\u001b[39;00m \u001b[38;5;28;01mimport\u001b[39;00m FigureCanvasBase\n\u001b[0;32m    149\u001b[0m     FigureCanvasBase(fig)\n\u001b[1;32m--> 151\u001b[0m \u001b[43mfig\u001b[49m\u001b[38;5;241;43m.\u001b[39;49m\u001b[43mcanvas\u001b[49m\u001b[38;5;241;43m.\u001b[39;49m\u001b[43mprint_figure\u001b[49m\u001b[43m(\u001b[49m\u001b[43mbytes_io\u001b[49m\u001b[43m,\u001b[49m\u001b[43m \u001b[49m\u001b[38;5;241;43m*\u001b[39;49m\u001b[38;5;241;43m*\u001b[39;49m\u001b[43mkw\u001b[49m\u001b[43m)\u001b[49m\n\u001b[0;32m    152\u001b[0m data \u001b[38;5;241m=\u001b[39m bytes_io\u001b[38;5;241m.\u001b[39mgetvalue()\n\u001b[0;32m    153\u001b[0m \u001b[38;5;28;01mif\u001b[39;00m fmt \u001b[38;5;241m==\u001b[39m \u001b[38;5;124m'\u001b[39m\u001b[38;5;124msvg\u001b[39m\u001b[38;5;124m'\u001b[39m:\n",
      "File \u001b[1;32m~\\AppData\\Roaming\\Python\\Python38\\site-packages\\matplotlib\\backend_bases.py:2289\u001b[0m, in \u001b[0;36mFigureCanvasBase.print_figure\u001b[1;34m(self, filename, dpi, facecolor, edgecolor, orientation, format, bbox_inches, pad_inches, bbox_extra_artists, backend, **kwargs)\u001b[0m\n\u001b[0;32m   2282\u001b[0m     bbox_inches \u001b[38;5;241m=\u001b[39m rcParams[\u001b[38;5;124m'\u001b[39m\u001b[38;5;124msavefig.bbox\u001b[39m\u001b[38;5;124m'\u001b[39m]\n\u001b[0;32m   2284\u001b[0m \u001b[38;5;28;01mif\u001b[39;00m (\u001b[38;5;28mself\u001b[39m\u001b[38;5;241m.\u001b[39mfigure\u001b[38;5;241m.\u001b[39mget_constrained_layout() \u001b[38;5;129;01mor\u001b[39;00m\n\u001b[0;32m   2285\u001b[0m         bbox_inches \u001b[38;5;241m==\u001b[39m \u001b[38;5;124m\"\u001b[39m\u001b[38;5;124mtight\u001b[39m\u001b[38;5;124m\"\u001b[39m):\n\u001b[0;32m   2286\u001b[0m     \u001b[38;5;66;03m# we need to trigger a draw before printing to make sure\u001b[39;00m\n\u001b[0;32m   2287\u001b[0m     \u001b[38;5;66;03m# CL works.  \"tight\" also needs a draw to get the right\u001b[39;00m\n\u001b[0;32m   2288\u001b[0m     \u001b[38;5;66;03m# locations:\u001b[39;00m\n\u001b[1;32m-> 2289\u001b[0m     renderer \u001b[38;5;241m=\u001b[39m \u001b[43m_get_renderer\u001b[49m\u001b[43m(\u001b[49m\n\u001b[0;32m   2290\u001b[0m \u001b[43m        \u001b[49m\u001b[38;5;28;43mself\u001b[39;49m\u001b[38;5;241;43m.\u001b[39;49m\u001b[43mfigure\u001b[49m\u001b[43m,\u001b[49m\n\u001b[0;32m   2291\u001b[0m \u001b[43m        \u001b[49m\u001b[43mfunctools\u001b[49m\u001b[38;5;241;43m.\u001b[39;49m\u001b[43mpartial\u001b[49m\u001b[43m(\u001b[49m\n\u001b[0;32m   2292\u001b[0m \u001b[43m            \u001b[49m\u001b[43mprint_method\u001b[49m\u001b[43m,\u001b[49m\u001b[43m \u001b[49m\u001b[43morientation\u001b[49m\u001b[38;5;241;43m=\u001b[39;49m\u001b[43morientation\u001b[49m\u001b[43m)\u001b[49m\n\u001b[0;32m   2293\u001b[0m \u001b[43m    \u001b[49m\u001b[43m)\u001b[49m\n\u001b[0;32m   2294\u001b[0m     \u001b[38;5;28;01mwith\u001b[39;00m \u001b[38;5;28mgetattr\u001b[39m(renderer, \u001b[38;5;124m\"\u001b[39m\u001b[38;5;124m_draw_disabled\u001b[39m\u001b[38;5;124m\"\u001b[39m, nullcontext)():\n\u001b[0;32m   2295\u001b[0m         \u001b[38;5;28mself\u001b[39m\u001b[38;5;241m.\u001b[39mfigure\u001b[38;5;241m.\u001b[39mdraw(renderer)\n",
      "File \u001b[1;32m~\\AppData\\Roaming\\Python\\Python38\\site-packages\\matplotlib\\backend_bases.py:1544\u001b[0m, in \u001b[0;36m_get_renderer\u001b[1;34m(figure, print_method)\u001b[0m\n\u001b[0;32m   1541\u001b[0m     print_method \u001b[38;5;241m=\u001b[39m \u001b[38;5;28mgetattr\u001b[39m(\n\u001b[0;32m   1542\u001b[0m         figure\u001b[38;5;241m.\u001b[39mcanvas\u001b[38;5;241m.\u001b[39m_get_output_canvas(\u001b[38;5;28;01mNone\u001b[39;00m, fmt), \u001b[38;5;124mf\u001b[39m\u001b[38;5;124m\"\u001b[39m\u001b[38;5;124mprint_\u001b[39m\u001b[38;5;132;01m{\u001b[39;00mfmt\u001b[38;5;132;01m}\u001b[39;00m\u001b[38;5;124m\"\u001b[39m)\n\u001b[0;32m   1543\u001b[0m \u001b[38;5;28;01mtry\u001b[39;00m:\n\u001b[1;32m-> 1544\u001b[0m     \u001b[43mprint_method\u001b[49m\u001b[43m(\u001b[49m\u001b[43mio\u001b[49m\u001b[38;5;241;43m.\u001b[39;49m\u001b[43mBytesIO\u001b[49m\u001b[43m(\u001b[49m\u001b[43m)\u001b[49m\u001b[43m)\u001b[49m\n\u001b[0;32m   1545\u001b[0m \u001b[38;5;28;01mexcept\u001b[39;00m Done \u001b[38;5;28;01mas\u001b[39;00m exc:\n\u001b[0;32m   1546\u001b[0m     renderer, \u001b[38;5;241m=\u001b[39m figure\u001b[38;5;241m.\u001b[39m_cachedRenderer, \u001b[38;5;241m=\u001b[39m exc\u001b[38;5;241m.\u001b[39margs\n",
      "File \u001b[1;32m~\\AppData\\Roaming\\Python\\Python38\\site-packages\\matplotlib\\backend_bases.py:1648\u001b[0m, in \u001b[0;36m_check_savefig_extra_args.<locals>.wrapper\u001b[1;34m(*args, **kwargs)\u001b[0m\n\u001b[0;32m   1640\u001b[0m     _api\u001b[38;5;241m.\u001b[39mwarn_deprecated(\n\u001b[0;32m   1641\u001b[0m         \u001b[38;5;124m'\u001b[39m\u001b[38;5;124m3.3\u001b[39m\u001b[38;5;124m'\u001b[39m, name\u001b[38;5;241m=\u001b[39mname, removal\u001b[38;5;241m=\u001b[39m\u001b[38;5;124m'\u001b[39m\u001b[38;5;124m3.6\u001b[39m\u001b[38;5;124m'\u001b[39m,\n\u001b[0;32m   1642\u001b[0m         message\u001b[38;5;241m=\u001b[39m\u001b[38;5;124m'\u001b[39m\u001b[38;5;132;01m%(name)s\u001b[39;00m\u001b[38;5;124m() got unexpected keyword argument \u001b[39m\u001b[38;5;124m\"\u001b[39m\u001b[38;5;124m'\u001b[39m\n\u001b[0;32m   1643\u001b[0m                 \u001b[38;5;241m+\u001b[39m arg \u001b[38;5;241m+\u001b[39m \u001b[38;5;124m'\u001b[39m\u001b[38;5;124m\"\u001b[39m\u001b[38;5;124m which is no longer supported as of \u001b[39m\u001b[38;5;124m'\u001b[39m\n\u001b[0;32m   1644\u001b[0m                 \u001b[38;5;124m'\u001b[39m\u001b[38;5;132;01m%(since)s\u001b[39;00m\u001b[38;5;124m and will become an error \u001b[39m\u001b[38;5;124m'\u001b[39m\n\u001b[0;32m   1645\u001b[0m                 \u001b[38;5;124m'\u001b[39m\u001b[38;5;132;01m%(removal)s\u001b[39;00m\u001b[38;5;124m'\u001b[39m)\n\u001b[0;32m   1646\u001b[0m     kwargs\u001b[38;5;241m.\u001b[39mpop(arg)\n\u001b[1;32m-> 1648\u001b[0m \u001b[38;5;28;01mreturn\u001b[39;00m \u001b[43mfunc\u001b[49m\u001b[43m(\u001b[49m\u001b[38;5;241;43m*\u001b[39;49m\u001b[43margs\u001b[49m\u001b[43m,\u001b[49m\u001b[43m \u001b[49m\u001b[38;5;241;43m*\u001b[39;49m\u001b[38;5;241;43m*\u001b[39;49m\u001b[43mkwargs\u001b[49m\u001b[43m)\u001b[49m\n",
      "File \u001b[1;32m~\\AppData\\Roaming\\Python\\Python38\\site-packages\\matplotlib\\_api\\deprecation.py:415\u001b[0m, in \u001b[0;36mdelete_parameter.<locals>.wrapper\u001b[1;34m(*inner_args, **inner_kwargs)\u001b[0m\n\u001b[0;32m    405\u001b[0m     deprecation_addendum \u001b[38;5;241m=\u001b[39m (\n\u001b[0;32m    406\u001b[0m         \u001b[38;5;124mf\u001b[39m\u001b[38;5;124m\"\u001b[39m\u001b[38;5;124mIf any parameter follows \u001b[39m\u001b[38;5;132;01m{\u001b[39;00mname\u001b[38;5;132;01m!r}\u001b[39;00m\u001b[38;5;124m, they should be passed as \u001b[39m\u001b[38;5;124m\"\u001b[39m\n\u001b[0;32m    407\u001b[0m         \u001b[38;5;124mf\u001b[39m\u001b[38;5;124m\"\u001b[39m\u001b[38;5;124mkeyword, not positionally.\u001b[39m\u001b[38;5;124m\"\u001b[39m)\n\u001b[0;32m    408\u001b[0m     warn_deprecated(\n\u001b[0;32m    409\u001b[0m         since,\n\u001b[0;32m    410\u001b[0m         name\u001b[38;5;241m=\u001b[39m\u001b[38;5;28mrepr\u001b[39m(name),\n\u001b[1;32m   (...)\u001b[0m\n\u001b[0;32m    413\u001b[0m                  \u001b[38;5;28;01melse\u001b[39;00m deprecation_addendum,\n\u001b[0;32m    414\u001b[0m         \u001b[38;5;241m*\u001b[39m\u001b[38;5;241m*\u001b[39mkwargs)\n\u001b[1;32m--> 415\u001b[0m \u001b[38;5;28;01mreturn\u001b[39;00m \u001b[43mfunc\u001b[49m\u001b[43m(\u001b[49m\u001b[38;5;241;43m*\u001b[39;49m\u001b[43minner_args\u001b[49m\u001b[43m,\u001b[49m\u001b[43m \u001b[49m\u001b[38;5;241;43m*\u001b[39;49m\u001b[38;5;241;43m*\u001b[39;49m\u001b[43minner_kwargs\u001b[49m\u001b[43m)\u001b[49m\n",
      "File \u001b[1;32m~\\AppData\\Roaming\\Python\\Python38\\site-packages\\matplotlib\\backends\\backend_agg.py:540\u001b[0m, in \u001b[0;36mFigureCanvasAgg.print_png\u001b[1;34m(self, filename_or_obj, metadata, pil_kwargs, *args)\u001b[0m\n\u001b[0;32m    490\u001b[0m \u001b[38;5;129m@_check_savefig_extra_args\u001b[39m\n\u001b[0;32m    491\u001b[0m \u001b[38;5;129m@_api\u001b[39m\u001b[38;5;241m.\u001b[39mdelete_parameter(\u001b[38;5;124m\"\u001b[39m\u001b[38;5;124m3.5\u001b[39m\u001b[38;5;124m\"\u001b[39m, \u001b[38;5;124m\"\u001b[39m\u001b[38;5;124margs\u001b[39m\u001b[38;5;124m\"\u001b[39m)\n\u001b[0;32m    492\u001b[0m \u001b[38;5;28;01mdef\u001b[39;00m \u001b[38;5;21mprint_png\u001b[39m(\u001b[38;5;28mself\u001b[39m, filename_or_obj, \u001b[38;5;241m*\u001b[39margs,\n\u001b[0;32m    493\u001b[0m               metadata\u001b[38;5;241m=\u001b[39m\u001b[38;5;28;01mNone\u001b[39;00m, pil_kwargs\u001b[38;5;241m=\u001b[39m\u001b[38;5;28;01mNone\u001b[39;00m):\n\u001b[0;32m    494\u001b[0m     \u001b[38;5;124;03m\"\"\"\u001b[39;00m\n\u001b[0;32m    495\u001b[0m \u001b[38;5;124;03m    Write the figure to a PNG file.\u001b[39;00m\n\u001b[0;32m    496\u001b[0m \n\u001b[1;32m   (...)\u001b[0m\n\u001b[0;32m    538\u001b[0m \u001b[38;5;124;03m        *metadata*, including the default 'Software' key.\u001b[39;00m\n\u001b[0;32m    539\u001b[0m \u001b[38;5;124;03m    \"\"\"\u001b[39;00m\n\u001b[1;32m--> 540\u001b[0m     \u001b[43mFigureCanvasAgg\u001b[49m\u001b[38;5;241;43m.\u001b[39;49m\u001b[43mdraw\u001b[49m\u001b[43m(\u001b[49m\u001b[38;5;28;43mself\u001b[39;49m\u001b[43m)\u001b[49m\n\u001b[0;32m    541\u001b[0m     mpl\u001b[38;5;241m.\u001b[39mimage\u001b[38;5;241m.\u001b[39mimsave(\n\u001b[0;32m    542\u001b[0m         filename_or_obj, \u001b[38;5;28mself\u001b[39m\u001b[38;5;241m.\u001b[39mbuffer_rgba(), \u001b[38;5;28mformat\u001b[39m\u001b[38;5;241m=\u001b[39m\u001b[38;5;124m\"\u001b[39m\u001b[38;5;124mpng\u001b[39m\u001b[38;5;124m\"\u001b[39m, origin\u001b[38;5;241m=\u001b[39m\u001b[38;5;124m\"\u001b[39m\u001b[38;5;124mupper\u001b[39m\u001b[38;5;124m\"\u001b[39m,\n\u001b[0;32m    543\u001b[0m         dpi\u001b[38;5;241m=\u001b[39m\u001b[38;5;28mself\u001b[39m\u001b[38;5;241m.\u001b[39mfigure\u001b[38;5;241m.\u001b[39mdpi, metadata\u001b[38;5;241m=\u001b[39mmetadata, pil_kwargs\u001b[38;5;241m=\u001b[39mpil_kwargs)\n",
      "File \u001b[1;32m~\\AppData\\Roaming\\Python\\Python38\\site-packages\\matplotlib\\backends\\backend_agg.py:431\u001b[0m, in \u001b[0;36mFigureCanvasAgg.draw\u001b[1;34m(self)\u001b[0m\n\u001b[0;32m    429\u001b[0m \u001b[38;5;28;01mdef\u001b[39;00m \u001b[38;5;21mdraw\u001b[39m(\u001b[38;5;28mself\u001b[39m):\n\u001b[0;32m    430\u001b[0m     \u001b[38;5;66;03m# docstring inherited\u001b[39;00m\n\u001b[1;32m--> 431\u001b[0m     \u001b[38;5;28mself\u001b[39m\u001b[38;5;241m.\u001b[39mrenderer \u001b[38;5;241m=\u001b[39m \u001b[38;5;28;43mself\u001b[39;49m\u001b[38;5;241;43m.\u001b[39;49m\u001b[43mget_renderer\u001b[49m\u001b[43m(\u001b[49m\u001b[43mcleared\u001b[49m\u001b[38;5;241;43m=\u001b[39;49m\u001b[38;5;28;43;01mTrue\u001b[39;49;00m\u001b[43m)\u001b[49m\n\u001b[0;32m    432\u001b[0m     \u001b[38;5;66;03m# Acquire a lock on the shared font cache.\u001b[39;00m\n\u001b[0;32m    433\u001b[0m     \u001b[38;5;28;01mwith\u001b[39;00m RendererAgg\u001b[38;5;241m.\u001b[39mlock, \\\n\u001b[0;32m    434\u001b[0m          (\u001b[38;5;28mself\u001b[39m\u001b[38;5;241m.\u001b[39mtoolbar\u001b[38;5;241m.\u001b[39m_wait_cursor_for_draw_cm() \u001b[38;5;28;01mif\u001b[39;00m \u001b[38;5;28mself\u001b[39m\u001b[38;5;241m.\u001b[39mtoolbar\n\u001b[0;32m    435\u001b[0m           \u001b[38;5;28;01melse\u001b[39;00m nullcontext()):\n",
      "File \u001b[1;32m~\\AppData\\Roaming\\Python\\Python38\\site-packages\\matplotlib\\backends\\backend_agg.py:447\u001b[0m, in \u001b[0;36mFigureCanvasAgg.get_renderer\u001b[1;34m(self, cleared)\u001b[0m\n\u001b[0;32m    444\u001b[0m reuse_renderer \u001b[38;5;241m=\u001b[39m (\u001b[38;5;28mhasattr\u001b[39m(\u001b[38;5;28mself\u001b[39m, \u001b[38;5;124m\"\u001b[39m\u001b[38;5;124mrenderer\u001b[39m\u001b[38;5;124m\"\u001b[39m)\n\u001b[0;32m    445\u001b[0m                   \u001b[38;5;129;01mand\u001b[39;00m \u001b[38;5;28mgetattr\u001b[39m(\u001b[38;5;28mself\u001b[39m, \u001b[38;5;124m\"\u001b[39m\u001b[38;5;124m_lastKey\u001b[39m\u001b[38;5;124m\"\u001b[39m, \u001b[38;5;28;01mNone\u001b[39;00m) \u001b[38;5;241m==\u001b[39m key)\n\u001b[0;32m    446\u001b[0m \u001b[38;5;28;01mif\u001b[39;00m \u001b[38;5;129;01mnot\u001b[39;00m reuse_renderer:\n\u001b[1;32m--> 447\u001b[0m     \u001b[38;5;28mself\u001b[39m\u001b[38;5;241m.\u001b[39mrenderer \u001b[38;5;241m=\u001b[39m \u001b[43mRendererAgg\u001b[49m\u001b[43m(\u001b[49m\u001b[43mw\u001b[49m\u001b[43m,\u001b[49m\u001b[43m \u001b[49m\u001b[43mh\u001b[49m\u001b[43m,\u001b[49m\u001b[43m \u001b[49m\u001b[38;5;28;43mself\u001b[39;49m\u001b[38;5;241;43m.\u001b[39;49m\u001b[43mfigure\u001b[49m\u001b[38;5;241;43m.\u001b[39;49m\u001b[43mdpi\u001b[49m\u001b[43m)\u001b[49m\n\u001b[0;32m    448\u001b[0m     \u001b[38;5;28mself\u001b[39m\u001b[38;5;241m.\u001b[39m_lastKey \u001b[38;5;241m=\u001b[39m key\n\u001b[0;32m    449\u001b[0m \u001b[38;5;28;01melif\u001b[39;00m cleared:\n",
      "File \u001b[1;32m~\\AppData\\Roaming\\Python\\Python38\\site-packages\\matplotlib\\backends\\backend_agg.py:93\u001b[0m, in \u001b[0;36mRendererAgg.__init__\u001b[1;34m(self, width, height, dpi)\u001b[0m\n\u001b[0;32m     91\u001b[0m \u001b[38;5;28mself\u001b[39m\u001b[38;5;241m.\u001b[39mwidth \u001b[38;5;241m=\u001b[39m width\n\u001b[0;32m     92\u001b[0m \u001b[38;5;28mself\u001b[39m\u001b[38;5;241m.\u001b[39mheight \u001b[38;5;241m=\u001b[39m height\n\u001b[1;32m---> 93\u001b[0m \u001b[38;5;28mself\u001b[39m\u001b[38;5;241m.\u001b[39m_renderer \u001b[38;5;241m=\u001b[39m \u001b[43m_RendererAgg\u001b[49m\u001b[43m(\u001b[49m\u001b[38;5;28;43mint\u001b[39;49m\u001b[43m(\u001b[49m\u001b[43mwidth\u001b[49m\u001b[43m)\u001b[49m\u001b[43m,\u001b[49m\u001b[43m \u001b[49m\u001b[38;5;28;43mint\u001b[39;49m\u001b[43m(\u001b[49m\u001b[43mheight\u001b[49m\u001b[43m)\u001b[49m\u001b[43m,\u001b[49m\u001b[43m \u001b[49m\u001b[43mdpi\u001b[49m\u001b[43m)\u001b[49m\n\u001b[0;32m     94\u001b[0m \u001b[38;5;28mself\u001b[39m\u001b[38;5;241m.\u001b[39m_filter_renderers \u001b[38;5;241m=\u001b[39m []\n\u001b[0;32m     96\u001b[0m \u001b[38;5;28mself\u001b[39m\u001b[38;5;241m.\u001b[39m_update_methods()\n",
      "\u001b[1;31mValueError\u001b[0m: Image size of 640x1973910 pixels is too large. It must be less than 2^16 in each direction."
     ]
    },
    {
     "data": {
      "text/plain": [
       "<Figure size 640x1.97391e+06 with 1 Axes>"
      ]
     },
     "metadata": {},
     "output_type": "display_data"
    },
    {
     "ename": "ValueError",
     "evalue": "Image size of 640x1973910 pixels is too large. It must be less than 2^16 in each direction.",
     "output_type": "error",
     "traceback": [
      "\u001b[1;31m---------------------------------------------------------------------------\u001b[0m",
      "\u001b[1;31mValueError\u001b[0m                                Traceback (most recent call last)",
      "File \u001b[1;32m~\\anaconda3\\envs\\dsi-sg\\lib\\site-packages\\IPython\\core\\formatters.py:339\u001b[0m, in \u001b[0;36mBaseFormatter.__call__\u001b[1;34m(self, obj)\u001b[0m\n\u001b[0;32m    337\u001b[0m     \u001b[38;5;28;01mpass\u001b[39;00m\n\u001b[0;32m    338\u001b[0m \u001b[38;5;28;01melse\u001b[39;00m:\n\u001b[1;32m--> 339\u001b[0m     \u001b[38;5;28;01mreturn\u001b[39;00m \u001b[43mprinter\u001b[49m\u001b[43m(\u001b[49m\u001b[43mobj\u001b[49m\u001b[43m)\u001b[49m\n\u001b[0;32m    340\u001b[0m \u001b[38;5;66;03m# Finally look for special method names\u001b[39;00m\n\u001b[0;32m    341\u001b[0m method \u001b[38;5;241m=\u001b[39m get_real_method(obj, \u001b[38;5;28mself\u001b[39m\u001b[38;5;241m.\u001b[39mprint_method)\n",
      "File \u001b[1;32m~\\anaconda3\\envs\\dsi-sg\\lib\\site-packages\\IPython\\core\\pylabtools.py:151\u001b[0m, in \u001b[0;36mprint_figure\u001b[1;34m(fig, fmt, bbox_inches, base64, **kwargs)\u001b[0m\n\u001b[0;32m    148\u001b[0m     \u001b[38;5;28;01mfrom\u001b[39;00m \u001b[38;5;21;01mmatplotlib\u001b[39;00m\u001b[38;5;21;01m.\u001b[39;00m\u001b[38;5;21;01mbackend_bases\u001b[39;00m \u001b[38;5;28;01mimport\u001b[39;00m FigureCanvasBase\n\u001b[0;32m    149\u001b[0m     FigureCanvasBase(fig)\n\u001b[1;32m--> 151\u001b[0m \u001b[43mfig\u001b[49m\u001b[38;5;241;43m.\u001b[39;49m\u001b[43mcanvas\u001b[49m\u001b[38;5;241;43m.\u001b[39;49m\u001b[43mprint_figure\u001b[49m\u001b[43m(\u001b[49m\u001b[43mbytes_io\u001b[49m\u001b[43m,\u001b[49m\u001b[43m \u001b[49m\u001b[38;5;241;43m*\u001b[39;49m\u001b[38;5;241;43m*\u001b[39;49m\u001b[43mkw\u001b[49m\u001b[43m)\u001b[49m\n\u001b[0;32m    152\u001b[0m data \u001b[38;5;241m=\u001b[39m bytes_io\u001b[38;5;241m.\u001b[39mgetvalue()\n\u001b[0;32m    153\u001b[0m \u001b[38;5;28;01mif\u001b[39;00m fmt \u001b[38;5;241m==\u001b[39m \u001b[38;5;124m'\u001b[39m\u001b[38;5;124msvg\u001b[39m\u001b[38;5;124m'\u001b[39m:\n",
      "File \u001b[1;32m~\\AppData\\Roaming\\Python\\Python38\\site-packages\\matplotlib\\backend_bases.py:2289\u001b[0m, in \u001b[0;36mFigureCanvasBase.print_figure\u001b[1;34m(self, filename, dpi, facecolor, edgecolor, orientation, format, bbox_inches, pad_inches, bbox_extra_artists, backend, **kwargs)\u001b[0m\n\u001b[0;32m   2282\u001b[0m     bbox_inches \u001b[38;5;241m=\u001b[39m rcParams[\u001b[38;5;124m'\u001b[39m\u001b[38;5;124msavefig.bbox\u001b[39m\u001b[38;5;124m'\u001b[39m]\n\u001b[0;32m   2284\u001b[0m \u001b[38;5;28;01mif\u001b[39;00m (\u001b[38;5;28mself\u001b[39m\u001b[38;5;241m.\u001b[39mfigure\u001b[38;5;241m.\u001b[39mget_constrained_layout() \u001b[38;5;129;01mor\u001b[39;00m\n\u001b[0;32m   2285\u001b[0m         bbox_inches \u001b[38;5;241m==\u001b[39m \u001b[38;5;124m\"\u001b[39m\u001b[38;5;124mtight\u001b[39m\u001b[38;5;124m\"\u001b[39m):\n\u001b[0;32m   2286\u001b[0m     \u001b[38;5;66;03m# we need to trigger a draw before printing to make sure\u001b[39;00m\n\u001b[0;32m   2287\u001b[0m     \u001b[38;5;66;03m# CL works.  \"tight\" also needs a draw to get the right\u001b[39;00m\n\u001b[0;32m   2288\u001b[0m     \u001b[38;5;66;03m# locations:\u001b[39;00m\n\u001b[1;32m-> 2289\u001b[0m     renderer \u001b[38;5;241m=\u001b[39m \u001b[43m_get_renderer\u001b[49m\u001b[43m(\u001b[49m\n\u001b[0;32m   2290\u001b[0m \u001b[43m        \u001b[49m\u001b[38;5;28;43mself\u001b[39;49m\u001b[38;5;241;43m.\u001b[39;49m\u001b[43mfigure\u001b[49m\u001b[43m,\u001b[49m\n\u001b[0;32m   2291\u001b[0m \u001b[43m        \u001b[49m\u001b[43mfunctools\u001b[49m\u001b[38;5;241;43m.\u001b[39;49m\u001b[43mpartial\u001b[49m\u001b[43m(\u001b[49m\n\u001b[0;32m   2292\u001b[0m \u001b[43m            \u001b[49m\u001b[43mprint_method\u001b[49m\u001b[43m,\u001b[49m\u001b[43m \u001b[49m\u001b[43morientation\u001b[49m\u001b[38;5;241;43m=\u001b[39;49m\u001b[43morientation\u001b[49m\u001b[43m)\u001b[49m\n\u001b[0;32m   2293\u001b[0m \u001b[43m    \u001b[49m\u001b[43m)\u001b[49m\n\u001b[0;32m   2294\u001b[0m     \u001b[38;5;28;01mwith\u001b[39;00m \u001b[38;5;28mgetattr\u001b[39m(renderer, \u001b[38;5;124m\"\u001b[39m\u001b[38;5;124m_draw_disabled\u001b[39m\u001b[38;5;124m\"\u001b[39m, nullcontext)():\n\u001b[0;32m   2295\u001b[0m         \u001b[38;5;28mself\u001b[39m\u001b[38;5;241m.\u001b[39mfigure\u001b[38;5;241m.\u001b[39mdraw(renderer)\n",
      "File \u001b[1;32m~\\AppData\\Roaming\\Python\\Python38\\site-packages\\matplotlib\\backend_bases.py:1544\u001b[0m, in \u001b[0;36m_get_renderer\u001b[1;34m(figure, print_method)\u001b[0m\n\u001b[0;32m   1541\u001b[0m     print_method \u001b[38;5;241m=\u001b[39m \u001b[38;5;28mgetattr\u001b[39m(\n\u001b[0;32m   1542\u001b[0m         figure\u001b[38;5;241m.\u001b[39mcanvas\u001b[38;5;241m.\u001b[39m_get_output_canvas(\u001b[38;5;28;01mNone\u001b[39;00m, fmt), \u001b[38;5;124mf\u001b[39m\u001b[38;5;124m\"\u001b[39m\u001b[38;5;124mprint_\u001b[39m\u001b[38;5;132;01m{\u001b[39;00mfmt\u001b[38;5;132;01m}\u001b[39;00m\u001b[38;5;124m\"\u001b[39m)\n\u001b[0;32m   1543\u001b[0m \u001b[38;5;28;01mtry\u001b[39;00m:\n\u001b[1;32m-> 1544\u001b[0m     \u001b[43mprint_method\u001b[49m\u001b[43m(\u001b[49m\u001b[43mio\u001b[49m\u001b[38;5;241;43m.\u001b[39;49m\u001b[43mBytesIO\u001b[49m\u001b[43m(\u001b[49m\u001b[43m)\u001b[49m\u001b[43m)\u001b[49m\n\u001b[0;32m   1545\u001b[0m \u001b[38;5;28;01mexcept\u001b[39;00m Done \u001b[38;5;28;01mas\u001b[39;00m exc:\n\u001b[0;32m   1546\u001b[0m     renderer, \u001b[38;5;241m=\u001b[39m figure\u001b[38;5;241m.\u001b[39m_cachedRenderer, \u001b[38;5;241m=\u001b[39m exc\u001b[38;5;241m.\u001b[39margs\n",
      "File \u001b[1;32m~\\AppData\\Roaming\\Python\\Python38\\site-packages\\matplotlib\\backend_bases.py:1648\u001b[0m, in \u001b[0;36m_check_savefig_extra_args.<locals>.wrapper\u001b[1;34m(*args, **kwargs)\u001b[0m\n\u001b[0;32m   1640\u001b[0m     _api\u001b[38;5;241m.\u001b[39mwarn_deprecated(\n\u001b[0;32m   1641\u001b[0m         \u001b[38;5;124m'\u001b[39m\u001b[38;5;124m3.3\u001b[39m\u001b[38;5;124m'\u001b[39m, name\u001b[38;5;241m=\u001b[39mname, removal\u001b[38;5;241m=\u001b[39m\u001b[38;5;124m'\u001b[39m\u001b[38;5;124m3.6\u001b[39m\u001b[38;5;124m'\u001b[39m,\n\u001b[0;32m   1642\u001b[0m         message\u001b[38;5;241m=\u001b[39m\u001b[38;5;124m'\u001b[39m\u001b[38;5;132;01m%(name)s\u001b[39;00m\u001b[38;5;124m() got unexpected keyword argument \u001b[39m\u001b[38;5;124m\"\u001b[39m\u001b[38;5;124m'\u001b[39m\n\u001b[0;32m   1643\u001b[0m                 \u001b[38;5;241m+\u001b[39m arg \u001b[38;5;241m+\u001b[39m \u001b[38;5;124m'\u001b[39m\u001b[38;5;124m\"\u001b[39m\u001b[38;5;124m which is no longer supported as of \u001b[39m\u001b[38;5;124m'\u001b[39m\n\u001b[0;32m   1644\u001b[0m                 \u001b[38;5;124m'\u001b[39m\u001b[38;5;132;01m%(since)s\u001b[39;00m\u001b[38;5;124m and will become an error \u001b[39m\u001b[38;5;124m'\u001b[39m\n\u001b[0;32m   1645\u001b[0m                 \u001b[38;5;124m'\u001b[39m\u001b[38;5;132;01m%(removal)s\u001b[39;00m\u001b[38;5;124m'\u001b[39m)\n\u001b[0;32m   1646\u001b[0m     kwargs\u001b[38;5;241m.\u001b[39mpop(arg)\n\u001b[1;32m-> 1648\u001b[0m \u001b[38;5;28;01mreturn\u001b[39;00m \u001b[43mfunc\u001b[49m\u001b[43m(\u001b[49m\u001b[38;5;241;43m*\u001b[39;49m\u001b[43margs\u001b[49m\u001b[43m,\u001b[49m\u001b[43m \u001b[49m\u001b[38;5;241;43m*\u001b[39;49m\u001b[38;5;241;43m*\u001b[39;49m\u001b[43mkwargs\u001b[49m\u001b[43m)\u001b[49m\n",
      "File \u001b[1;32m~\\AppData\\Roaming\\Python\\Python38\\site-packages\\matplotlib\\_api\\deprecation.py:415\u001b[0m, in \u001b[0;36mdelete_parameter.<locals>.wrapper\u001b[1;34m(*inner_args, **inner_kwargs)\u001b[0m\n\u001b[0;32m    405\u001b[0m     deprecation_addendum \u001b[38;5;241m=\u001b[39m (\n\u001b[0;32m    406\u001b[0m         \u001b[38;5;124mf\u001b[39m\u001b[38;5;124m\"\u001b[39m\u001b[38;5;124mIf any parameter follows \u001b[39m\u001b[38;5;132;01m{\u001b[39;00mname\u001b[38;5;132;01m!r}\u001b[39;00m\u001b[38;5;124m, they should be passed as \u001b[39m\u001b[38;5;124m\"\u001b[39m\n\u001b[0;32m    407\u001b[0m         \u001b[38;5;124mf\u001b[39m\u001b[38;5;124m\"\u001b[39m\u001b[38;5;124mkeyword, not positionally.\u001b[39m\u001b[38;5;124m\"\u001b[39m)\n\u001b[0;32m    408\u001b[0m     warn_deprecated(\n\u001b[0;32m    409\u001b[0m         since,\n\u001b[0;32m    410\u001b[0m         name\u001b[38;5;241m=\u001b[39m\u001b[38;5;28mrepr\u001b[39m(name),\n\u001b[1;32m   (...)\u001b[0m\n\u001b[0;32m    413\u001b[0m                  \u001b[38;5;28;01melse\u001b[39;00m deprecation_addendum,\n\u001b[0;32m    414\u001b[0m         \u001b[38;5;241m*\u001b[39m\u001b[38;5;241m*\u001b[39mkwargs)\n\u001b[1;32m--> 415\u001b[0m \u001b[38;5;28;01mreturn\u001b[39;00m \u001b[43mfunc\u001b[49m\u001b[43m(\u001b[49m\u001b[38;5;241;43m*\u001b[39;49m\u001b[43minner_args\u001b[49m\u001b[43m,\u001b[49m\u001b[43m \u001b[49m\u001b[38;5;241;43m*\u001b[39;49m\u001b[38;5;241;43m*\u001b[39;49m\u001b[43minner_kwargs\u001b[49m\u001b[43m)\u001b[49m\n",
      "File \u001b[1;32m~\\AppData\\Roaming\\Python\\Python38\\site-packages\\matplotlib\\backends\\backend_agg.py:540\u001b[0m, in \u001b[0;36mFigureCanvasAgg.print_png\u001b[1;34m(self, filename_or_obj, metadata, pil_kwargs, *args)\u001b[0m\n\u001b[0;32m    490\u001b[0m \u001b[38;5;129m@_check_savefig_extra_args\u001b[39m\n\u001b[0;32m    491\u001b[0m \u001b[38;5;129m@_api\u001b[39m\u001b[38;5;241m.\u001b[39mdelete_parameter(\u001b[38;5;124m\"\u001b[39m\u001b[38;5;124m3.5\u001b[39m\u001b[38;5;124m\"\u001b[39m, \u001b[38;5;124m\"\u001b[39m\u001b[38;5;124margs\u001b[39m\u001b[38;5;124m\"\u001b[39m)\n\u001b[0;32m    492\u001b[0m \u001b[38;5;28;01mdef\u001b[39;00m \u001b[38;5;21mprint_png\u001b[39m(\u001b[38;5;28mself\u001b[39m, filename_or_obj, \u001b[38;5;241m*\u001b[39margs,\n\u001b[0;32m    493\u001b[0m               metadata\u001b[38;5;241m=\u001b[39m\u001b[38;5;28;01mNone\u001b[39;00m, pil_kwargs\u001b[38;5;241m=\u001b[39m\u001b[38;5;28;01mNone\u001b[39;00m):\n\u001b[0;32m    494\u001b[0m     \u001b[38;5;124;03m\"\"\"\u001b[39;00m\n\u001b[0;32m    495\u001b[0m \u001b[38;5;124;03m    Write the figure to a PNG file.\u001b[39;00m\n\u001b[0;32m    496\u001b[0m \n\u001b[1;32m   (...)\u001b[0m\n\u001b[0;32m    538\u001b[0m \u001b[38;5;124;03m        *metadata*, including the default 'Software' key.\u001b[39;00m\n\u001b[0;32m    539\u001b[0m \u001b[38;5;124;03m    \"\"\"\u001b[39;00m\n\u001b[1;32m--> 540\u001b[0m     \u001b[43mFigureCanvasAgg\u001b[49m\u001b[38;5;241;43m.\u001b[39;49m\u001b[43mdraw\u001b[49m\u001b[43m(\u001b[49m\u001b[38;5;28;43mself\u001b[39;49m\u001b[43m)\u001b[49m\n\u001b[0;32m    541\u001b[0m     mpl\u001b[38;5;241m.\u001b[39mimage\u001b[38;5;241m.\u001b[39mimsave(\n\u001b[0;32m    542\u001b[0m         filename_or_obj, \u001b[38;5;28mself\u001b[39m\u001b[38;5;241m.\u001b[39mbuffer_rgba(), \u001b[38;5;28mformat\u001b[39m\u001b[38;5;241m=\u001b[39m\u001b[38;5;124m\"\u001b[39m\u001b[38;5;124mpng\u001b[39m\u001b[38;5;124m\"\u001b[39m, origin\u001b[38;5;241m=\u001b[39m\u001b[38;5;124m\"\u001b[39m\u001b[38;5;124mupper\u001b[39m\u001b[38;5;124m\"\u001b[39m,\n\u001b[0;32m    543\u001b[0m         dpi\u001b[38;5;241m=\u001b[39m\u001b[38;5;28mself\u001b[39m\u001b[38;5;241m.\u001b[39mfigure\u001b[38;5;241m.\u001b[39mdpi, metadata\u001b[38;5;241m=\u001b[39mmetadata, pil_kwargs\u001b[38;5;241m=\u001b[39mpil_kwargs)\n",
      "File \u001b[1;32m~\\AppData\\Roaming\\Python\\Python38\\site-packages\\matplotlib\\backends\\backend_agg.py:431\u001b[0m, in \u001b[0;36mFigureCanvasAgg.draw\u001b[1;34m(self)\u001b[0m\n\u001b[0;32m    429\u001b[0m \u001b[38;5;28;01mdef\u001b[39;00m \u001b[38;5;21mdraw\u001b[39m(\u001b[38;5;28mself\u001b[39m):\n\u001b[0;32m    430\u001b[0m     \u001b[38;5;66;03m# docstring inherited\u001b[39;00m\n\u001b[1;32m--> 431\u001b[0m     \u001b[38;5;28mself\u001b[39m\u001b[38;5;241m.\u001b[39mrenderer \u001b[38;5;241m=\u001b[39m \u001b[38;5;28;43mself\u001b[39;49m\u001b[38;5;241;43m.\u001b[39;49m\u001b[43mget_renderer\u001b[49m\u001b[43m(\u001b[49m\u001b[43mcleared\u001b[49m\u001b[38;5;241;43m=\u001b[39;49m\u001b[38;5;28;43;01mTrue\u001b[39;49;00m\u001b[43m)\u001b[49m\n\u001b[0;32m    432\u001b[0m     \u001b[38;5;66;03m# Acquire a lock on the shared font cache.\u001b[39;00m\n\u001b[0;32m    433\u001b[0m     \u001b[38;5;28;01mwith\u001b[39;00m RendererAgg\u001b[38;5;241m.\u001b[39mlock, \\\n\u001b[0;32m    434\u001b[0m          (\u001b[38;5;28mself\u001b[39m\u001b[38;5;241m.\u001b[39mtoolbar\u001b[38;5;241m.\u001b[39m_wait_cursor_for_draw_cm() \u001b[38;5;28;01mif\u001b[39;00m \u001b[38;5;28mself\u001b[39m\u001b[38;5;241m.\u001b[39mtoolbar\n\u001b[0;32m    435\u001b[0m           \u001b[38;5;28;01melse\u001b[39;00m nullcontext()):\n",
      "File \u001b[1;32m~\\AppData\\Roaming\\Python\\Python38\\site-packages\\matplotlib\\backends\\backend_agg.py:447\u001b[0m, in \u001b[0;36mFigureCanvasAgg.get_renderer\u001b[1;34m(self, cleared)\u001b[0m\n\u001b[0;32m    444\u001b[0m reuse_renderer \u001b[38;5;241m=\u001b[39m (\u001b[38;5;28mhasattr\u001b[39m(\u001b[38;5;28mself\u001b[39m, \u001b[38;5;124m\"\u001b[39m\u001b[38;5;124mrenderer\u001b[39m\u001b[38;5;124m\"\u001b[39m)\n\u001b[0;32m    445\u001b[0m                   \u001b[38;5;129;01mand\u001b[39;00m \u001b[38;5;28mgetattr\u001b[39m(\u001b[38;5;28mself\u001b[39m, \u001b[38;5;124m\"\u001b[39m\u001b[38;5;124m_lastKey\u001b[39m\u001b[38;5;124m\"\u001b[39m, \u001b[38;5;28;01mNone\u001b[39;00m) \u001b[38;5;241m==\u001b[39m key)\n\u001b[0;32m    446\u001b[0m \u001b[38;5;28;01mif\u001b[39;00m \u001b[38;5;129;01mnot\u001b[39;00m reuse_renderer:\n\u001b[1;32m--> 447\u001b[0m     \u001b[38;5;28mself\u001b[39m\u001b[38;5;241m.\u001b[39mrenderer \u001b[38;5;241m=\u001b[39m \u001b[43mRendererAgg\u001b[49m\u001b[43m(\u001b[49m\u001b[43mw\u001b[49m\u001b[43m,\u001b[49m\u001b[43m \u001b[49m\u001b[43mh\u001b[49m\u001b[43m,\u001b[49m\u001b[43m \u001b[49m\u001b[38;5;28;43mself\u001b[39;49m\u001b[38;5;241;43m.\u001b[39;49m\u001b[43mfigure\u001b[49m\u001b[38;5;241;43m.\u001b[39;49m\u001b[43mdpi\u001b[49m\u001b[43m)\u001b[49m\n\u001b[0;32m    448\u001b[0m     \u001b[38;5;28mself\u001b[39m\u001b[38;5;241m.\u001b[39m_lastKey \u001b[38;5;241m=\u001b[39m key\n\u001b[0;32m    449\u001b[0m \u001b[38;5;28;01melif\u001b[39;00m cleared:\n",
      "File \u001b[1;32m~\\AppData\\Roaming\\Python\\Python38\\site-packages\\matplotlib\\backends\\backend_agg.py:93\u001b[0m, in \u001b[0;36mRendererAgg.__init__\u001b[1;34m(self, width, height, dpi)\u001b[0m\n\u001b[0;32m     91\u001b[0m \u001b[38;5;28mself\u001b[39m\u001b[38;5;241m.\u001b[39mwidth \u001b[38;5;241m=\u001b[39m width\n\u001b[0;32m     92\u001b[0m \u001b[38;5;28mself\u001b[39m\u001b[38;5;241m.\u001b[39mheight \u001b[38;5;241m=\u001b[39m height\n\u001b[1;32m---> 93\u001b[0m \u001b[38;5;28mself\u001b[39m\u001b[38;5;241m.\u001b[39m_renderer \u001b[38;5;241m=\u001b[39m \u001b[43m_RendererAgg\u001b[49m\u001b[43m(\u001b[49m\u001b[38;5;28;43mint\u001b[39;49m\u001b[43m(\u001b[49m\u001b[43mwidth\u001b[49m\u001b[43m)\u001b[49m\u001b[43m,\u001b[49m\u001b[43m \u001b[49m\u001b[38;5;28;43mint\u001b[39;49m\u001b[43m(\u001b[49m\u001b[43mheight\u001b[49m\u001b[43m)\u001b[49m\u001b[43m,\u001b[49m\u001b[43m \u001b[49m\u001b[43mdpi\u001b[49m\u001b[43m)\u001b[49m\n\u001b[0;32m     94\u001b[0m \u001b[38;5;28mself\u001b[39m\u001b[38;5;241m.\u001b[39m_filter_renderers \u001b[38;5;241m=\u001b[39m []\n\u001b[0;32m     96\u001b[0m \u001b[38;5;28mself\u001b[39m\u001b[38;5;241m.\u001b[39m_update_methods()\n",
      "\u001b[1;31mValueError\u001b[0m: Image size of 640x1973910 pixels is too large. It must be less than 2^16 in each direction."
     ]
    },
    {
     "data": {
      "text/plain": [
       "<Figure size 640x1.97391e+06 with 1 Axes>"
      ]
     },
     "metadata": {},
     "output_type": "display_data"
    }
   ],
   "source": [
    "%%time\n",
    "best_model = compare_models(n_select = 20)"
   ]
  },
  {
   "cell_type": "code",
   "execution_count": 14,
   "id": "0b189119-12c3-4982-ba9c-6602f883d5af",
   "metadata": {},
   "outputs": [
    {
     "name": "stdout",
     "output_type": "stream",
     "text": [
      "RidgeClassifier(alpha=1.0, class_weight=None, copy_X=True, fit_intercept=True,\n",
      "                max_iter=None, normalize=False, random_state=42, solver='auto',\n",
      "                tol=0.001)\n"
     ]
    }
   ],
   "source": [
    "print(best_model[0])"
   ]
  },
  {
   "cell_type": "code",
   "execution_count": 15,
   "id": "6b97f8c4-c200-4099-8aff-f5f45b25c622",
   "metadata": {},
   "outputs": [
    {
     "data": {
      "application/vnd.jupyter.widget-view+json": {
       "model_id": "e9a71449e6ba47b4ad3578b0dced5a45",
       "version_major": 2,
       "version_minor": 0
      },
      "text/plain": [
       "interactive(children=(ToggleButtons(description='Plot Type:', icons=('',), options=(('Hyperparameters', 'param…"
      ]
     },
     "metadata": {},
     "output_type": "display_data"
    }
   ],
   "source": [
    "evaluate_model(best_model[0])"
   ]
  },
  {
   "cell_type": "code",
   "execution_count": 16,
   "id": "4a5a9ae4-5f2c-44da-8873-89b72709b6de",
   "metadata": {},
   "outputs": [
    {
     "data": {
      "image/png": "[encoded data removed]",
      "text/plain": [
       "<Figure size 800x550 with 1 Axes>"
      ]
     },
     "metadata": {},
     "output_type": "display_data"
    }
   ],
   "source": [
    "plot_model(best_model[0], plot = 'confusion_matrix')"
   ]
  },
  {
   "cell_type": "code",
   "execution_count": 44,
   "id": "c58f41c7-c81d-48c3-8a40-3ebcf3c2dda1",
   "metadata": {},
   "outputs": [
    {
     "data": {
      "text/html": [
       "<style type=\"text/css\">\n",
       "#T_cf601_row5_col0, #T_cf601_row5_col1, #T_cf601_row5_col2, #T_cf601_row5_col3, #T_cf601_row5_col4, #T_cf601_row5_col5, #T_cf601_row5_col6 {\n",
       "  background: yellow;\n",
       "}\n",
       "</style>\n",
       "<table id=\"T_cf601\">\n",
       "  <thead>\n",
       "    <tr>\n",
       "      <th class=\"blank level0\" >&nbsp;</th>\n",
       "      <th id=\"T_cf601_level0_col0\" class=\"col_heading level0 col0\" >Accuracy</th>\n",
       "      <th id=\"T_cf601_level0_col1\" class=\"col_heading level0 col1\" >AUC</th>\n",
       "      <th id=\"T_cf601_level0_col2\" class=\"col_heading level0 col2\" >Recall</th>\n",
       "      <th id=\"T_cf601_level0_col3\" class=\"col_heading level0 col3\" >Prec.</th>\n",
       "      <th id=\"T_cf601_level0_col4\" class=\"col_heading level0 col4\" >F1</th>\n",
       "      <th id=\"T_cf601_level0_col5\" class=\"col_heading level0 col5\" >Kappa</th>\n",
       "      <th id=\"T_cf601_level0_col6\" class=\"col_heading level0 col6\" >MCC</th>\n",
       "    </tr>\n",
       "    <tr>\n",
       "      <th class=\"index_name level0\" >Fold</th>\n",
       "      <th class=\"blank col0\" >&nbsp;</th>\n",
       "      <th class=\"blank col1\" >&nbsp;</th>\n",
       "      <th class=\"blank col2\" >&nbsp;</th>\n",
       "      <th class=\"blank col3\" >&nbsp;</th>\n",
       "      <th class=\"blank col4\" >&nbsp;</th>\n",
       "      <th class=\"blank col5\" >&nbsp;</th>\n",
       "      <th class=\"blank col6\" >&nbsp;</th>\n",
       "    </tr>\n",
       "  </thead>\n",
       "  <tbody>\n",
       "    <tr>\n",
       "      <th id=\"T_cf601_level0_row0\" class=\"row_heading level0 row0\" >0</th>\n",
       "      <td id=\"T_cf601_row0_col0\" class=\"data row0 col0\" >0.5043</td>\n",
       "      <td id=\"T_cf601_row0_col1\" class=\"data row0 col1\" >0.0000</td>\n",
       "      <td id=\"T_cf601_row0_col2\" class=\"data row0 col2\" >0.3403</td>\n",
       "      <td id=\"T_cf601_row0_col3\" class=\"data row0 col3\" >0.4986</td>\n",
       "      <td id=\"T_cf601_row0_col4\" class=\"data row0 col4\" >0.4815</td>\n",
       "      <td id=\"T_cf601_row0_col5\" class=\"data row0 col5\" >0.4499</td>\n",
       "      <td id=\"T_cf601_row0_col6\" class=\"data row0 col6\" >0.4534</td>\n",
       "    </tr>\n",
       "    <tr>\n",
       "      <th id=\"T_cf601_level0_row1\" class=\"row_heading level0 row1\" >1</th>\n",
       "      <td id=\"T_cf601_row1_col0\" class=\"data row1 col0\" >0.5238</td>\n",
       "      <td id=\"T_cf601_row1_col1\" class=\"data row1 col1\" >0.0000</td>\n",
       "      <td id=\"T_cf601_row1_col2\" class=\"data row1 col2\" >0.3525</td>\n",
       "      <td id=\"T_cf601_row1_col3\" class=\"data row1 col3\" >0.5181</td>\n",
       "      <td id=\"T_cf601_row1_col4\" class=\"data row1 col4\" >0.4996</td>\n",
       "      <td id=\"T_cf601_row1_col5\" class=\"data row1 col5\" >0.4724</td>\n",
       "      <td id=\"T_cf601_row1_col6\" class=\"data row1 col6\" >0.4754</td>\n",
       "    </tr>\n",
       "    <tr>\n",
       "      <th id=\"T_cf601_level0_row2\" class=\"row_heading level0 row2\" >2</th>\n",
       "      <td id=\"T_cf601_row2_col0\" class=\"data row2 col0\" >0.5103</td>\n",
       "      <td id=\"T_cf601_row2_col1\" class=\"data row2 col1\" >0.0000</td>\n",
       "      <td id=\"T_cf601_row2_col2\" class=\"data row2 col2\" >0.3419</td>\n",
       "      <td id=\"T_cf601_row2_col3\" class=\"data row2 col3\" >0.5108</td>\n",
       "      <td id=\"T_cf601_row2_col4\" class=\"data row2 col4\" >0.4896</td>\n",
       "      <td id=\"T_cf601_row2_col5\" class=\"data row2 col5\" >0.4573</td>\n",
       "      <td id=\"T_cf601_row2_col6\" class=\"data row2 col6\" >0.4603</td>\n",
       "    </tr>\n",
       "    <tr>\n",
       "      <th id=\"T_cf601_level0_row3\" class=\"row_heading level0 row3\" >3</th>\n",
       "      <td id=\"T_cf601_row3_col0\" class=\"data row3 col0\" >0.5202</td>\n",
       "      <td id=\"T_cf601_row3_col1\" class=\"data row3 col1\" >0.0000</td>\n",
       "      <td id=\"T_cf601_row3_col2\" class=\"data row3 col2\" >0.3611</td>\n",
       "      <td id=\"T_cf601_row3_col3\" class=\"data row3 col3\" >0.5165</td>\n",
       "      <td id=\"T_cf601_row3_col4\" class=\"data row3 col4\" >0.5002</td>\n",
       "      <td id=\"T_cf601_row3_col5\" class=\"data row3 col5\" >0.4689</td>\n",
       "      <td id=\"T_cf601_row3_col6\" class=\"data row3 col6\" >0.4717</td>\n",
       "    </tr>\n",
       "    <tr>\n",
       "      <th id=\"T_cf601_level0_row4\" class=\"row_heading level0 row4\" >4</th>\n",
       "      <td id=\"T_cf601_row4_col0\" class=\"data row4 col0\" >0.5113</td>\n",
       "      <td id=\"T_cf601_row4_col1\" class=\"data row4 col1\" >0.0000</td>\n",
       "      <td id=\"T_cf601_row4_col2\" class=\"data row4 col2\" >0.3490</td>\n",
       "      <td id=\"T_cf601_row4_col3\" class=\"data row4 col3\" >0.5195</td>\n",
       "      <td id=\"T_cf601_row4_col4\" class=\"data row4 col4\" >0.4880</td>\n",
       "      <td id=\"T_cf601_row4_col5\" class=\"data row4 col5\" >0.4566</td>\n",
       "      <td id=\"T_cf601_row4_col6\" class=\"data row4 col6\" >0.4610</td>\n",
       "    </tr>\n",
       "    <tr>\n",
       "      <th id=\"T_cf601_level0_row5\" class=\"row_heading level0 row5\" >Mean</th>\n",
       "      <td id=\"T_cf601_row5_col0\" class=\"data row5 col0\" >0.5140</td>\n",
       "      <td id=\"T_cf601_row5_col1\" class=\"data row5 col1\" >0.0000</td>\n",
       "      <td id=\"T_cf601_row5_col2\" class=\"data row5 col2\" >0.3490</td>\n",
       "      <td id=\"T_cf601_row5_col3\" class=\"data row5 col3\" >0.5127</td>\n",
       "      <td id=\"T_cf601_row5_col4\" class=\"data row5 col4\" >0.4918</td>\n",
       "      <td id=\"T_cf601_row5_col5\" class=\"data row5 col5\" >0.4610</td>\n",
       "      <td id=\"T_cf601_row5_col6\" class=\"data row5 col6\" >0.4644</td>\n",
       "    </tr>\n",
       "    <tr>\n",
       "      <th id=\"T_cf601_level0_row6\" class=\"row_heading level0 row6\" >Std</th>\n",
       "      <td id=\"T_cf601_row6_col0\" class=\"data row6 col0\" >0.0071</td>\n",
       "      <td id=\"T_cf601_row6_col1\" class=\"data row6 col1\" >0.0000</td>\n",
       "      <td id=\"T_cf601_row6_col2\" class=\"data row6 col2\" >0.0075</td>\n",
       "      <td id=\"T_cf601_row6_col3\" class=\"data row6 col3\" >0.0077</td>\n",
       "      <td id=\"T_cf601_row6_col4\" class=\"data row6 col4\" >0.0072</td>\n",
       "      <td id=\"T_cf601_row6_col5\" class=\"data row6 col5\" >0.0084</td>\n",
       "      <td id=\"T_cf601_row6_col6\" class=\"data row6 col6\" >0.0080</td>\n",
       "    </tr>\n",
       "  </tbody>\n",
       "</table>\n"
      ],
      "text/plain": [
       "<pandas.io.formats.style.Styler at 0x24a99a20d60>"
      ]
     },
     "metadata": {},
     "output_type": "display_data"
    },
    {
     "data": {
      "image/png": "[encoded data removed]",
      "text/plain": [
       "<Figure size 1050x700 with 1 Axes>"
      ]
     },
     "metadata": {},
     "output_type": "display_data"
    }
   ],
   "source": [
    "tuned_model = tune_model(best_model[0], choose_better = True)"
   ]
  },
  {
   "cell_type": "markdown",
   "id": "aba83dd2-59e1-438c-b51f-6d64dbfda432",
   "metadata": {},
   "source": [
    "## Modeling using pycaret (CountVector)\n",
    "As there's sign of overfitting in the first modelling by pycaret using ridge classification. The accuracy on train data is good at 98%, but test accuracy is only 52%. Hence, we will \n",
    "- remove tfidf transformer\n",
    "- relax the ngram parameter\n",
    "- increase min_df to 2\n",
    "- reduce max_df to 0.95\n"
   ]
  },
  {
   "cell_type": "code",
   "execution_count": 46,
   "id": "6e785d86-94b8-4684-9f88-235de6df38c3",
   "metadata": {},
   "outputs": [],
   "source": [
    "preprocess_pipeline = Pipeline([\n",
    "    ('cvec', CountVectorizer(ngram_range = (1,1), stop_words = 'english', token_pattern = '\\w+', min_df = 2, max_df = 0.95)), #we chose this based on the previous best model for binary classification. But we remove the binary as this is multiclass, hence, we want to feed more info into model\n",
    "])\n",
    "\n",
    "\n",
    "preprocess_transformer = ColumnTransformer([\n",
    "    ('pipe', preprocess_pipeline, 'combined')\n",
    "])"
   ]
  },
  {
   "cell_type": "code",
   "execution_count": 48,
   "id": "5f7ea7f6-cd1f-4480-a8f9-a2725c573d35",
   "metadata": {},
   "outputs": [
    {
     "data": {
      "text/html": [
       "<style type=\"text/css\">\n",
       "#T_1090e_row15_col1, #T_1090e_row16_col1 {\n",
       "  background-color: lightgreen;\n",
       "}\n",
       "</style>\n",
       "<table id=\"T_1090e\">\n",
       "  <thead>\n",
       "    <tr>\n",
       "      <th class=\"blank level0\" >&nbsp;</th>\n",
       "      <th id=\"T_1090e_level0_col0\" class=\"col_heading level0 col0\" >Description</th>\n",
       "      <th id=\"T_1090e_level0_col1\" class=\"col_heading level0 col1\" >Value</th>\n",
       "    </tr>\n",
       "  </thead>\n",
       "  <tbody>\n",
       "    <tr>\n",
       "      <th id=\"T_1090e_level0_row0\" class=\"row_heading level0 row0\" >0</th>\n",
       "      <td id=\"T_1090e_row0_col0\" class=\"data row0 col0\" >session_id</td>\n",
       "      <td id=\"T_1090e_row0_col1\" class=\"data row0 col1\" >42</td>\n",
       "    </tr>\n",
       "    <tr>\n",
       "      <th id=\"T_1090e_level0_row1\" class=\"row_heading level0 row1\" >1</th>\n",
       "      <td id=\"T_1090e_row1_col0\" class=\"data row1 col0\" >Target</td>\n",
       "      <td id=\"T_1090e_row1_col1\" class=\"data row1 col1\" >link_flair_text</td>\n",
       "    </tr>\n",
       "    <tr>\n",
       "      <th id=\"T_1090e_level0_row2\" class=\"row_heading level0 row2\" >2</th>\n",
       "      <td id=\"T_1090e_row2_col0\" class=\"data row2 col0\" >Target Type</td>\n",
       "      <td id=\"T_1090e_row2_col1\" class=\"data row2 col1\" >Multiclass</td>\n",
       "    </tr>\n",
       "    <tr>\n",
       "      <th id=\"T_1090e_level0_row3\" class=\"row_heading level0 row3\" >3</th>\n",
       "      <td id=\"T_1090e_row3_col0\" class=\"data row3 col0\" >Label Encoded</td>\n",
       "      <td id=\"T_1090e_row3_col1\" class=\"data row3 col1\" >None</td>\n",
       "    </tr>\n",
       "    <tr>\n",
       "      <th id=\"T_1090e_level0_row4\" class=\"row_heading level0 row4\" >4</th>\n",
       "      <td id=\"T_1090e_row4_col0\" class=\"data row4 col0\" >Original Data</td>\n",
       "      <td id=\"T_1090e_row4_col1\" class=\"data row4 col1\" >(24955, 2)</td>\n",
       "    </tr>\n",
       "    <tr>\n",
       "      <th id=\"T_1090e_level0_row5\" class=\"row_heading level0 row5\" >5</th>\n",
       "      <td id=\"T_1090e_row5_col0\" class=\"data row5 col0\" >Missing Values</td>\n",
       "      <td id=\"T_1090e_row5_col1\" class=\"data row5 col1\" >False</td>\n",
       "    </tr>\n",
       "    <tr>\n",
       "      <th id=\"T_1090e_level0_row6\" class=\"row_heading level0 row6\" >6</th>\n",
       "      <td id=\"T_1090e_row6_col0\" class=\"data row6 col0\" >Numeric Features</td>\n",
       "      <td id=\"T_1090e_row6_col1\" class=\"data row6 col1\" >0</td>\n",
       "    </tr>\n",
       "    <tr>\n",
       "      <th id=\"T_1090e_level0_row7\" class=\"row_heading level0 row7\" >7</th>\n",
       "      <td id=\"T_1090e_row7_col0\" class=\"data row7 col0\" >Categorical Features</td>\n",
       "      <td id=\"T_1090e_row7_col1\" class=\"data row7 col1\" >1</td>\n",
       "    </tr>\n",
       "    <tr>\n",
       "      <th id=\"T_1090e_level0_row8\" class=\"row_heading level0 row8\" >8</th>\n",
       "      <td id=\"T_1090e_row8_col0\" class=\"data row8 col0\" >Transformed Train Set</td>\n",
       "      <td id=\"T_1090e_row8_col1\" class=\"data row8 col1\" >(17468, 1)</td>\n",
       "    </tr>\n",
       "    <tr>\n",
       "      <th id=\"T_1090e_level0_row9\" class=\"row_heading level0 row9\" >9</th>\n",
       "      <td id=\"T_1090e_row9_col0\" class=\"data row9 col0\" >Transformed Test Set</td>\n",
       "      <td id=\"T_1090e_row9_col1\" class=\"data row9 col1\" >(7487, 1)</td>\n",
       "    </tr>\n",
       "    <tr>\n",
       "      <th id=\"T_1090e_level0_row10\" class=\"row_heading level0 row10\" >10</th>\n",
       "      <td id=\"T_1090e_row10_col0\" class=\"data row10 col0\" >Shuffle Train-Test</td>\n",
       "      <td id=\"T_1090e_row10_col1\" class=\"data row10 col1\" >True</td>\n",
       "    </tr>\n",
       "    <tr>\n",
       "      <th id=\"T_1090e_level0_row11\" class=\"row_heading level0 row11\" >11</th>\n",
       "      <td id=\"T_1090e_row11_col0\" class=\"data row11 col0\" >Stratify Train-Test</td>\n",
       "      <td id=\"T_1090e_row11_col1\" class=\"data row11 col1\" >False</td>\n",
       "    </tr>\n",
       "    <tr>\n",
       "      <th id=\"T_1090e_level0_row12\" class=\"row_heading level0 row12\" >12</th>\n",
       "      <td id=\"T_1090e_row12_col0\" class=\"data row12 col0\" >Fold Generator</td>\n",
       "      <td id=\"T_1090e_row12_col1\" class=\"data row12 col1\" >StratifiedKFold</td>\n",
       "    </tr>\n",
       "    <tr>\n",
       "      <th id=\"T_1090e_level0_row13\" class=\"row_heading level0 row13\" >13</th>\n",
       "      <td id=\"T_1090e_row13_col0\" class=\"data row13 col0\" >Fold Number</td>\n",
       "      <td id=\"T_1090e_row13_col1\" class=\"data row13 col1\" >5</td>\n",
       "    </tr>\n",
       "    <tr>\n",
       "      <th id=\"T_1090e_level0_row14\" class=\"row_heading level0 row14\" >14</th>\n",
       "      <td id=\"T_1090e_row14_col0\" class=\"data row14 col0\" >CPU Jobs</td>\n",
       "      <td id=\"T_1090e_row14_col1\" class=\"data row14 col1\" >-1</td>\n",
       "    </tr>\n",
       "    <tr>\n",
       "      <th id=\"T_1090e_level0_row15\" class=\"row_heading level0 row15\" >15</th>\n",
       "      <td id=\"T_1090e_row15_col0\" class=\"data row15 col0\" >Use GPU</td>\n",
       "      <td id=\"T_1090e_row15_col1\" class=\"data row15 col1\" >True</td>\n",
       "    </tr>\n",
       "    <tr>\n",
       "      <th id=\"T_1090e_level0_row16\" class=\"row_heading level0 row16\" >16</th>\n",
       "      <td id=\"T_1090e_row16_col0\" class=\"data row16 col0\" >Log Experiment</td>\n",
       "      <td id=\"T_1090e_row16_col1\" class=\"data row16 col1\" >True</td>\n",
       "    </tr>\n",
       "    <tr>\n",
       "      <th id=\"T_1090e_level0_row17\" class=\"row_heading level0 row17\" >17</th>\n",
       "      <td id=\"T_1090e_row17_col0\" class=\"data row17 col0\" >Experiment Name</td>\n",
       "      <td id=\"T_1090e_row17_col1\" class=\"data row17 col1\" >GA-dsi32-project-3-multiclass1</td>\n",
       "    </tr>\n",
       "    <tr>\n",
       "      <th id=\"T_1090e_level0_row18\" class=\"row_heading level0 row18\" >18</th>\n",
       "      <td id=\"T_1090e_row18_col0\" class=\"data row18 col0\" >USI</td>\n",
       "      <td id=\"T_1090e_row18_col1\" class=\"data row18 col1\" >0659</td>\n",
       "    </tr>\n",
       "    <tr>\n",
       "      <th id=\"T_1090e_level0_row19\" class=\"row_heading level0 row19\" >19</th>\n",
       "      <td id=\"T_1090e_row19_col0\" class=\"data row19 col0\" >Fix Imbalance</td>\n",
       "      <td id=\"T_1090e_row19_col1\" class=\"data row19 col1\" >False</td>\n",
       "    </tr>\n",
       "    <tr>\n",
       "      <th id=\"T_1090e_level0_row20\" class=\"row_heading level0 row20\" >20</th>\n",
       "      <td id=\"T_1090e_row20_col0\" class=\"data row20 col0\" >Fix Imbalance Method</td>\n",
       "      <td id=\"T_1090e_row20_col1\" class=\"data row20 col1\" >SMOTE</td>\n",
       "    </tr>\n",
       "  </tbody>\n",
       "</table>\n"
      ],
      "text/plain": [
       "<pandas.io.formats.style.Styler at 0x1620c6bba30>"
      ]
     },
     "metadata": {},
     "output_type": "display_data"
    }
   ],
   "source": [
    "s = setup(multi_df, \n",
    "          target = 'link_flair_text',\n",
    "          session_id = 42,\n",
    "          use_gpu = True,\n",
    "          fold = 5,\n",
    "          log_experiment = True,\n",
    "          experiment_name = 'GA-dsi32-project-3-multiclass1',\n",
    "          silent = True,\n",
    "          custom_pipeline = preprocess_transformer,\n",
    "          preprocess = False #turn off the preprocess done by pycaret except for train_test_split and custom transformations passed in custom_pipeline param\n",
    "         )"
   ]
  },
  {
   "cell_type": "code",
   "execution_count": null,
   "id": "42194729-07a5-4a64-a7ae-1b072175d9d1",
   "metadata": {},
   "outputs": [
    {
     "data": {
      "application/vnd.jupyter.widget-view+json": {
       "model_id": "8cab16e16c864c49b1fe8e53c49df825",
       "version_major": 2,
       "version_minor": 0
      },
      "text/plain": [
       "IntProgress(value=0, description='Processing: ', max=74)"
      ]
     },
     "metadata": {},
     "output_type": "display_data"
    },
    {
     "data": {
      "text/html": [
       "<div>\n",
       "<style scoped>\n",
       "    .dataframe tbody tr th:only-of-type {\n",
       "        vertical-align: middle;\n",
       "    }\n",
       "\n",
       "    .dataframe tbody tr th {\n",
       "        vertical-align: top;\n",
       "    }\n",
       "\n",
       "    .dataframe thead th {\n",
       "        text-align: right;\n",
       "    }\n",
       "</style>\n",
       "<table border=\"1\" class=\"dataframe\">\n",
       "  <thead>\n",
       "    <tr style=\"text-align: right;\">\n",
       "      <th></th>\n",
       "      <th></th>\n",
       "      <th></th>\n",
       "    </tr>\n",
       "    <tr>\n",
       "      <th></th>\n",
       "      <th></th>\n",
       "      <th></th>\n",
       "    </tr>\n",
       "  </thead>\n",
       "  <tbody>\n",
       "    <tr>\n",
       "      <th>Initiated</th>\n",
       "      <td>. . . . . . . . . . . . . . . . . .</td>\n",
       "      <td>18:33:55</td>\n",
       "    </tr>\n",
       "    <tr>\n",
       "      <th>Status</th>\n",
       "      <td>. . . . . . . . . . . . . . . . . .</td>\n",
       "      <td>Creating Logs</td>\n",
       "    </tr>\n",
       "    <tr>\n",
       "      <th>Estimator</th>\n",
       "      <td>. . . . . . . . . . . . . . . . . .</td>\n",
       "      <td>K Neighbors Classifier</td>\n",
       "    </tr>\n",
       "  </tbody>\n",
       "</table>\n",
       "</div>"
      ],
      "text/plain": [
       "                                                                      \n",
       "                                                                      \n",
       "Initiated  . . . . . . . . . . . . . . . . . .                18:33:55\n",
       "Status     . . . . . . . . . . . . . . . . . .           Creating Logs\n",
       "Estimator  . . . . . . . . . . . . . . . . . .  K Neighbors Classifier"
      ]
     },
     "metadata": {},
     "output_type": "display_data"
    },
    {
     "data": {
      "text/html": [
       "<style type=\"text/css\">\n",
       "#T_0bdad th {\n",
       "  text-align: left;\n",
       "}\n",
       "#T_0bdad_row0_col0, #T_0bdad_row0_col1, #T_0bdad_row0_col2, #T_0bdad_row0_col3, #T_0bdad_row0_col4, #T_0bdad_row0_col5, #T_0bdad_row0_col6, #T_0bdad_row0_col7, #T_0bdad_row0_col8, #T_0bdad_row1_col0, #T_0bdad_row1_col1, #T_0bdad_row1_col2, #T_0bdad_row1_col3, #T_0bdad_row1_col4, #T_0bdad_row1_col5, #T_0bdad_row1_col6, #T_0bdad_row1_col7, #T_0bdad_row1_col8, #T_0bdad_row2_col0, #T_0bdad_row2_col1, #T_0bdad_row2_col2, #T_0bdad_row2_col3, #T_0bdad_row2_col4, #T_0bdad_row2_col5, #T_0bdad_row2_col6, #T_0bdad_row2_col7, #T_0bdad_row2_col8, #T_0bdad_row3_col0, #T_0bdad_row3_col1, #T_0bdad_row3_col2, #T_0bdad_row3_col3, #T_0bdad_row3_col4, #T_0bdad_row3_col5, #T_0bdad_row3_col6, #T_0bdad_row3_col7, #T_0bdad_row3_col8, #T_0bdad_row4_col0, #T_0bdad_row4_col1, #T_0bdad_row4_col2, #T_0bdad_row4_col3, #T_0bdad_row4_col4, #T_0bdad_row4_col5, #T_0bdad_row4_col6, #T_0bdad_row4_col7, #T_0bdad_row4_col8, #T_0bdad_row5_col0, #T_0bdad_row5_col1, #T_0bdad_row5_col2, #T_0bdad_row5_col3, #T_0bdad_row5_col4, #T_0bdad_row5_col5, #T_0bdad_row5_col6, #T_0bdad_row5_col7, #T_0bdad_row5_col8, #T_0bdad_row6_col0, #T_0bdad_row6_col1, #T_0bdad_row6_col2, #T_0bdad_row6_col3, #T_0bdad_row6_col4, #T_0bdad_row6_col5, #T_0bdad_row6_col6, #T_0bdad_row6_col7, #T_0bdad_row6_col8, #T_0bdad_row7_col0, #T_0bdad_row7_col1, #T_0bdad_row7_col2, #T_0bdad_row7_col3, #T_0bdad_row7_col4, #T_0bdad_row7_col5, #T_0bdad_row7_col6, #T_0bdad_row7_col7, #T_0bdad_row7_col8, #T_0bdad_row8_col0, #T_0bdad_row8_col1, #T_0bdad_row8_col2, #T_0bdad_row8_col3, #T_0bdad_row8_col4, #T_0bdad_row8_col5, #T_0bdad_row8_col6, #T_0bdad_row8_col7, #T_0bdad_row8_col8, #T_0bdad_row9_col0, #T_0bdad_row9_col1, #T_0bdad_row9_col2, #T_0bdad_row9_col3, #T_0bdad_row9_col4, #T_0bdad_row9_col5, #T_0bdad_row9_col6, #T_0bdad_row9_col7, #T_0bdad_row9_col8 {\n",
       "  text-align: left;\n",
       "}\n",
       "</style>\n",
       "<table id=\"T_0bdad\">\n",
       "  <thead>\n",
       "    <tr>\n",
       "      <th class=\"blank level0\" >&nbsp;</th>\n",
       "      <th id=\"T_0bdad_level0_col0\" class=\"col_heading level0 col0\" >Model</th>\n",
       "      <th id=\"T_0bdad_level0_col1\" class=\"col_heading level0 col1\" >Accuracy</th>\n",
       "      <th id=\"T_0bdad_level0_col2\" class=\"col_heading level0 col2\" >AUC</th>\n",
       "      <th id=\"T_0bdad_level0_col3\" class=\"col_heading level0 col3\" >Recall</th>\n",
       "      <th id=\"T_0bdad_level0_col4\" class=\"col_heading level0 col4\" >Prec.</th>\n",
       "      <th id=\"T_0bdad_level0_col5\" class=\"col_heading level0 col5\" >F1</th>\n",
       "      <th id=\"T_0bdad_level0_col6\" class=\"col_heading level0 col6\" >Kappa</th>\n",
       "      <th id=\"T_0bdad_level0_col7\" class=\"col_heading level0 col7\" >MCC</th>\n",
       "      <th id=\"T_0bdad_level0_col8\" class=\"col_heading level0 col8\" >TT (Sec)</th>\n",
       "    </tr>\n",
       "  </thead>\n",
       "  <tbody>\n",
       "    <tr>\n",
       "      <th id=\"T_0bdad_level0_row0\" class=\"row_heading level0 row0\" >lr</th>\n",
       "      <td id=\"T_0bdad_row0_col0\" class=\"data row0 col0\" >Logistic Regression</td>\n",
       "      <td id=\"T_0bdad_row0_col1\" class=\"data row0 col1\" >0.4858</td>\n",
       "      <td id=\"T_0bdad_row0_col2\" class=\"data row0 col2\" >0.1758</td>\n",
       "      <td id=\"T_0bdad_row0_col3\" class=\"data row0 col3\" >0.3476</td>\n",
       "      <td id=\"T_0bdad_row0_col4\" class=\"data row0 col4\" >0.4841</td>\n",
       "      <td id=\"T_0bdad_row0_col5\" class=\"data row0 col5\" >0.4770</td>\n",
       "      <td id=\"T_0bdad_row0_col6\" class=\"data row0 col6\" >0.4340</td>\n",
       "      <td id=\"T_0bdad_row0_col7\" class=\"data row0 col7\" >0.4350</td>\n",
       "      <td id=\"T_0bdad_row0_col8\" class=\"data row0 col8\" >10.5580</td>\n",
       "    </tr>\n",
       "    <tr>\n",
       "      <th id=\"T_0bdad_level0_row1\" class=\"row_heading level0 row1\" >et</th>\n",
       "      <td id=\"T_0bdad_row1_col0\" class=\"data row1 col0\" >Extra Trees Classifier</td>\n",
       "      <td id=\"T_0bdad_row1_col1\" class=\"data row1 col1\" >0.4733</td>\n",
       "      <td id=\"T_0bdad_row1_col2\" class=\"data row1 col2\" >0.1713</td>\n",
       "      <td id=\"T_0bdad_row1_col3\" class=\"data row1 col3\" >0.3336</td>\n",
       "      <td id=\"T_0bdad_row1_col4\" class=\"data row1 col4\" >0.4708</td>\n",
       "      <td id=\"T_0bdad_row1_col5\" class=\"data row1 col5\" >0.4567</td>\n",
       "      <td id=\"T_0bdad_row1_col6\" class=\"data row1 col6\" >0.4172</td>\n",
       "      <td id=\"T_0bdad_row1_col7\" class=\"data row1 col7\" >0.4197</td>\n",
       "      <td id=\"T_0bdad_row1_col8\" class=\"data row1 col8\" >10.6680</td>\n",
       "    </tr>\n",
       "    <tr>\n",
       "      <th id=\"T_0bdad_level0_row2\" class=\"row_heading level0 row2\" >rf</th>\n",
       "      <td id=\"T_0bdad_row2_col0\" class=\"data row2 col0\" >Random Forest Classifier</td>\n",
       "      <td id=\"T_0bdad_row2_col1\" class=\"data row2 col1\" >0.4646</td>\n",
       "      <td id=\"T_0bdad_row2_col2\" class=\"data row2 col2\" >0.1726</td>\n",
       "      <td id=\"T_0bdad_row2_col3\" class=\"data row2 col3\" >0.3118</td>\n",
       "      <td id=\"T_0bdad_row2_col4\" class=\"data row2 col4\" >0.4668</td>\n",
       "      <td id=\"T_0bdad_row2_col5\" class=\"data row2 col5\" >0.4462</td>\n",
       "      <td id=\"T_0bdad_row2_col6\" class=\"data row2 col6\" >0.4071</td>\n",
       "      <td id=\"T_0bdad_row2_col7\" class=\"data row2 col7\" >0.4100</td>\n",
       "      <td id=\"T_0bdad_row2_col8\" class=\"data row2 col8\" >7.5480</td>\n",
       "    </tr>\n",
       "    <tr>\n",
       "      <th id=\"T_0bdad_level0_row3\" class=\"row_heading level0 row3\" >svm</th>\n",
       "      <td id=\"T_0bdad_row3_col0\" class=\"data row3 col0\" >SVM - Linear Kernel</td>\n",
       "      <td id=\"T_0bdad_row3_col1\" class=\"data row3 col1\" >0.4599</td>\n",
       "      <td id=\"T_0bdad_row3_col2\" class=\"data row3 col2\" >0.0000</td>\n",
       "      <td id=\"T_0bdad_row3_col3\" class=\"data row3 col3\" >0.3734</td>\n",
       "      <td id=\"T_0bdad_row3_col4\" class=\"data row3 col4\" >0.4539</td>\n",
       "      <td id=\"T_0bdad_row3_col5\" class=\"data row3 col5\" >0.4539</td>\n",
       "      <td id=\"T_0bdad_row3_col6\" class=\"data row3 col6\" >0.4090</td>\n",
       "      <td id=\"T_0bdad_row3_col7\" class=\"data row3 col7\" >0.4093</td>\n",
       "      <td id=\"T_0bdad_row3_col8\" class=\"data row3 col8\" >0.4260</td>\n",
       "    </tr>\n",
       "    <tr>\n",
       "      <th id=\"T_0bdad_level0_row4\" class=\"row_heading level0 row4\" >ridge</th>\n",
       "      <td id=\"T_0bdad_row4_col0\" class=\"data row4 col0\" >Ridge Classifier</td>\n",
       "      <td id=\"T_0bdad_row4_col1\" class=\"data row4 col1\" >0.4463</td>\n",
       "      <td id=\"T_0bdad_row4_col2\" class=\"data row4 col2\" >0.0000</td>\n",
       "      <td id=\"T_0bdad_row4_col3\" class=\"data row4 col3\" >0.3298</td>\n",
       "      <td id=\"T_0bdad_row4_col4\" class=\"data row4 col4\" >0.4381</td>\n",
       "      <td id=\"T_0bdad_row4_col5\" class=\"data row4 col5\" >0.4378</td>\n",
       "      <td id=\"T_0bdad_row4_col6\" class=\"data row4 col6\" >0.3915</td>\n",
       "      <td id=\"T_0bdad_row4_col7\" class=\"data row4 col7\" >0.3922</td>\n",
       "      <td id=\"T_0bdad_row4_col8\" class=\"data row4 col8\" >3.7140</td>\n",
       "    </tr>\n",
       "    <tr>\n",
       "      <th id=\"T_0bdad_level0_row5\" class=\"row_heading level0 row5\" >gbc</th>\n",
       "      <td id=\"T_0bdad_row5_col0\" class=\"data row5 col0\" >Gradient Boosting Classifier</td>\n",
       "      <td id=\"T_0bdad_row5_col1\" class=\"data row5 col1\" >0.4365</td>\n",
       "      <td id=\"T_0bdad_row5_col2\" class=\"data row5 col2\" >0.1660</td>\n",
       "      <td id=\"T_0bdad_row5_col3\" class=\"data row5 col3\" >0.3372</td>\n",
       "      <td id=\"T_0bdad_row5_col4\" class=\"data row5 col4\" >0.4705</td>\n",
       "      <td id=\"T_0bdad_row5_col5\" class=\"data row5 col5\" >0.4288</td>\n",
       "      <td id=\"T_0bdad_row5_col6\" class=\"data row5 col6\" >0.3682</td>\n",
       "      <td id=\"T_0bdad_row5_col7\" class=\"data row5 col7\" >0.3798</td>\n",
       "      <td id=\"T_0bdad_row5_col8\" class=\"data row5 col8\" >56.5940</td>\n",
       "    </tr>\n",
       "    <tr>\n",
       "      <th id=\"T_0bdad_level0_row6\" class=\"row_heading level0 row6\" >dt</th>\n",
       "      <td id=\"T_0bdad_row6_col0\" class=\"data row6 col0\" >Decision Tree Classifier</td>\n",
       "      <td id=\"T_0bdad_row6_col1\" class=\"data row6 col1\" >0.3840</td>\n",
       "      <td id=\"T_0bdad_row6_col2\" class=\"data row6 col2\" >0.1327</td>\n",
       "      <td id=\"T_0bdad_row6_col3\" class=\"data row6 col3\" >0.2836</td>\n",
       "      <td id=\"T_0bdad_row6_col4\" class=\"data row6 col4\" >0.3811</td>\n",
       "      <td id=\"T_0bdad_row6_col5\" class=\"data row6 col5\" >0.3797</td>\n",
       "      <td id=\"T_0bdad_row6_col6\" class=\"data row6 col6\" >0.3263</td>\n",
       "      <td id=\"T_0bdad_row6_col7\" class=\"data row6 col7\" >0.3266</td>\n",
       "      <td id=\"T_0bdad_row6_col8\" class=\"data row6 col8\" >3.1600</td>\n",
       "    </tr>\n",
       "    <tr>\n",
       "      <th id=\"T_0bdad_level0_row7\" class=\"row_heading level0 row7\" >knn</th>\n",
       "      <td id=\"T_0bdad_row7_col0\" class=\"data row7 col0\" >K Neighbors Classifier</td>\n",
       "      <td id=\"T_0bdad_row7_col1\" class=\"data row7 col1\" >0.2000</td>\n",
       "      <td id=\"T_0bdad_row7_col2\" class=\"data row7 col2\" >0.1278</td>\n",
       "      <td id=\"T_0bdad_row7_col3\" class=\"data row7 col3\" >0.1432</td>\n",
       "      <td id=\"T_0bdad_row7_col4\" class=\"data row7 col4\" >0.3155</td>\n",
       "      <td id=\"T_0bdad_row7_col5\" class=\"data row7 col5\" >0.2063</td>\n",
       "      <td id=\"T_0bdad_row7_col6\" class=\"data row7 col6\" >0.1380</td>\n",
       "      <td id=\"T_0bdad_row7_col7\" class=\"data row7 col7\" >0.1493</td>\n",
       "      <td id=\"T_0bdad_row7_col8\" class=\"data row7 col8\" >2.7320</td>\n",
       "    </tr>\n",
       "    <tr>\n",
       "      <th id=\"T_0bdad_level0_row8\" class=\"row_heading level0 row8\" >ada</th>\n",
       "      <td id=\"T_0bdad_row8_col0\" class=\"data row8 col0\" >Ada Boost Classifier</td>\n",
       "      <td id=\"T_0bdad_row8_col1\" class=\"data row8 col1\" >0.1943</td>\n",
       "      <td id=\"T_0bdad_row8_col2\" class=\"data row8 col2\" >0.1018</td>\n",
       "      <td id=\"T_0bdad_row8_col3\" class=\"data row8 col3\" >0.0794</td>\n",
       "      <td id=\"T_0bdad_row8_col4\" class=\"data row8 col4\" >0.0482</td>\n",
       "      <td id=\"T_0bdad_row8_col5\" class=\"data row8 col5\" >0.0717</td>\n",
       "      <td id=\"T_0bdad_row8_col6\" class=\"data row8 col6\" >0.0186</td>\n",
       "      <td id=\"T_0bdad_row8_col7\" class=\"data row8 col7\" >0.0689</td>\n",
       "      <td id=\"T_0bdad_row8_col8\" class=\"data row8 col8\" >1.5400</td>\n",
       "    </tr>\n",
       "    <tr>\n",
       "      <th id=\"T_0bdad_level0_row9\" class=\"row_heading level0 row9\" >dummy</th>\n",
       "      <td id=\"T_0bdad_row9_col0\" class=\"data row9 col0\" >Dummy Classifier</td>\n",
       "      <td id=\"T_0bdad_row9_col1\" class=\"data row9 col1\" >0.1834</td>\n",
       "      <td id=\"T_0bdad_row9_col2\" class=\"data row9 col2\" >0.1000</td>\n",
       "      <td id=\"T_0bdad_row9_col3\" class=\"data row9 col3\" >0.0397</td>\n",
       "      <td id=\"T_0bdad_row9_col4\" class=\"data row9 col4\" >0.0336</td>\n",
       "      <td id=\"T_0bdad_row9_col5\" class=\"data row9 col5\" >0.0568</td>\n",
       "      <td id=\"T_0bdad_row9_col6\" class=\"data row9 col6\" >0.0000</td>\n",
       "      <td id=\"T_0bdad_row9_col7\" class=\"data row9 col7\" >0.0000</td>\n",
       "      <td id=\"T_0bdad_row9_col8\" class=\"data row9 col8\" >0.3900</td>\n",
       "    </tr>\n",
       "  </tbody>\n",
       "</table>\n"
      ],
      "text/plain": [
       "<pandas.io.formats.style.Styler at 0x1621359c1c0>"
      ]
     },
     "metadata": {},
     "output_type": "display_data"
    }
   ],
   "source": [
    "%%time\n",
    "best_model = compare_models(n_select = 20)"
   ]
  },
  {
   "cell_type": "markdown",
   "id": "2e921422-1f74-4b8a-b10f-79119d149c0e",
   "metadata": {},
   "source": [
    "## Modeling using hugging face"
   ]
  },
  {
   "cell_type": "markdown",
   "id": "6a5935d8-a4d6-4c06-92b4-4345b13e7a92",
   "metadata": {},
   "source": [
    "### Custom Functions"
   ]
  },
  {
   "cell_type": "code",
   "execution_count": 38,
   "id": "09a345e2-5840-46b5-b50b-8a8c3c02df15",
   "metadata": {},
   "outputs": [],
   "source": [
    "# to output top prediction using different hugging face classifier\n",
    "def hf_predict(x, labels, model):\n",
    "    result = model(x, labels, multi_label=False)\n",
    "    return result['labels'][0]"
   ]
  },
  {
   "cell_type": "code",
   "execution_count": 61,
   "id": "2abe9193-78b1-4c9a-87f9-8d439bcf60cf",
   "metadata": {},
   "outputs": [],
   "source": [
    "# to evaluate performance of hugging face models\n",
    "def hf_evaluation(model, y_test, y_pred):\n",
    "    accuracy = accuracy_score(y_test, y_pred) #accuracy will be same as recal\n",
    "    precision = precision_score(y_test, y_pred, average='weighted')\n",
    "    f1 = f1_score(y_test, y_pred, average='weighted')\n",
    "    recall = recall_score(y_test, y_pred, average='weighted')\n",
    "    hf_scores['accuracy'][model] = accuracy\n",
    "    hf_scores['recall'][model] = recall\n",
    "    hf_scores['precision'][model] = precision\n",
    "    hf_scores['f1'][model] = f1"
   ]
  },
  {
   "cell_type": "markdown",
   "id": "980601a5-caf0-4dbd-bd46-ab7658b1e8a1",
   "metadata": {},
   "source": [
    "### Data Cleaning"
   ]
  },
  {
   "cell_type": "code",
   "execution_count": 40,
   "id": "e12bc369-5b25-4221-ac18-2e27ba79c05c",
   "metadata": {},
   "outputs": [],
   "source": [
    "# We take only 50 rows to run because previous run shows that 6 rows takes around 5 minutes. The purpose is to use these predicted class to see which scores are the highest\n",
    "multi_df_hf_50, _ = train_test_split(multi_df, train_size = 50, stratify = multi_df['link_flair_text'])"
   ]
  },
  {
   "cell_type": "code",
   "execution_count": 41,
   "id": "f1b1c742-28ca-4ee2-8c72-dbe002348813",
   "metadata": {},
   "outputs": [
    {
     "data": {
      "text/plain": [
       "array(['Medicine', 'Social Science', 'Animal Science', 'Anthropology',\n",
       "       'Environment', 'Psychology', 'Health', 'Nanoscience',\n",
       "       'Engineering', 'Biology', 'Earth Science', 'Astronomy', 'Genetics',\n",
       "       'Economics', 'Paleontology', 'Chemistry', 'Neuroscience', 'Cancer',\n",
       "       'Mathematics', 'Epidemiology', 'Physics', 'Geology',\n",
       "       'Materials Science', 'Computer Science', nan, 'Breaking News',\n",
       "       'Retraction', 'Best of r/science'], dtype=object)"
      ]
     },
     "execution_count": 41,
     "metadata": {},
     "output_type": "execute_result"
    }
   ],
   "source": [
    "label_ls = science_df['link_flair_text'].unique()\n",
    "label_ls"
   ]
  },
  {
   "cell_type": "code",
   "execution_count": 42,
   "id": "e51279bc-624f-4f62-889a-b3b160c95741",
   "metadata": {},
   "outputs": [
    {
     "name": "stdout",
     "output_type": "stream",
     "text": [
      "facebook/bart-large-mnli\n"
     ]
    },
    {
     "name": "stderr",
     "output_type": "stream",
     "text": [
      "100%|██████████████████████████████████████████████████████████████████████████████████| 50/50 [10:22<00:00, 12.45s/it]\n"
     ]
    },
    {
     "name": "stdout",
     "output_type": "stream",
     "text": [
      "valhalla/distilbart-mnli-12-1\n"
     ]
    },
    {
     "name": "stderr",
     "output_type": "stream",
     "text": [
      "100%|██████████████████████████████████████████████████████████████████████████████████| 50/50 [04:50<00:00,  5.80s/it]\n"
     ]
    },
    {
     "name": "stdout",
     "output_type": "stream",
     "text": [
      "valhalla/distilbart-mnli-12-3\n"
     ]
    },
    {
     "name": "stderr",
     "output_type": "stream",
     "text": [
      "100%|██████████████████████████████████████████████████████████████████████████████████| 50/50 [05:49<00:00,  6.99s/it]\n"
     ]
    },
    {
     "name": "stdout",
     "output_type": "stream",
     "text": [
      "typeform/distilbert-base-uncased-mnli\n"
     ]
    },
    {
     "name": "stderr",
     "output_type": "stream",
     "text": [
      "The `xla_device` argument has been deprecated in v4.4.0 of Transformers. It is ignored and you can safely remove it from your `config.json` file.\n",
      "The `xla_device` argument has been deprecated in v4.4.0 of Transformers. It is ignored and you can safely remove it from your `config.json` file.\n",
      "The `xla_device` argument has been deprecated in v4.4.0 of Transformers. It is ignored and you can safely remove it from your `config.json` file.\n",
      "The `xla_device` argument has been deprecated in v4.4.0 of Transformers. It is ignored and you can safely remove it from your `config.json` file.\n",
      "The `xla_device` argument has been deprecated in v4.4.0 of Transformers. It is ignored and you can safely remove it from your `config.json` file.\n",
      "100%|██████████████████████████████████████████████████████████████████████████████████| 50/50 [01:13<00:00,  1.48s/it]\n"
     ]
    },
    {
     "name": "stdout",
     "output_type": "stream",
     "text": [
      "Narsil/deberta-large-mnli-zero-cls\n"
     ]
    },
    {
     "name": "stderr",
     "output_type": "stream",
     "text": [
      "Some weights of the model checkpoint at Narsil/deberta-large-mnli-zero-cls were not used when initializing DebertaForSequenceClassification: ['config']\n",
      "- This IS expected if you are initializing DebertaForSequenceClassification from the checkpoint of a model trained on another task or with another architecture (e.g. initializing a BertForSequenceClassification model from a BertForPreTraining model).\n",
      "- This IS NOT expected if you are initializing DebertaForSequenceClassification from the checkpoint of a model that you expect to be exactly identical (initializing a BertForSequenceClassification model from a BertForSequenceClassification model).\n",
      "  0%|                                                                                           | 0/50 [00:00<?, ?it/s]Asking to truncate to max_length but no maximum length is provided and the model has no predefined maximum length. Default to no truncation.\n",
      "100%|██████████████████████████████████████████████████████████████████████████████████| 50/50 [11:41<00:00, 14.02s/it]"
     ]
    },
    {
     "name": "stdout",
     "output_type": "stream",
     "text": [
      "CPU times: total: 3h 5min 59s\n",
      "Wall time: 35min 15s\n"
     ]
    },
    {
     "name": "stderr",
     "output_type": "stream",
     "text": [
      "\n"
     ]
    }
   ],
   "source": [
    "%%time\n",
    "#loop through the 5 popular zero shot classification on hugging face and evaluate the scores for each model\n",
    "model_list = ['facebook/bart-large-mnli',\n",
    "              'valhalla/distilbart-mnli-12-1',\n",
    "              'valhalla/distilbart-mnli-12-3',               \n",
    "              'typeform/distilbert-base-uncased-mnli',\n",
    "              'Narsil/deberta-large-mnli-zero-cls',\n",
    "              #'joeddav/xlm-roberta-large-xnli',  #cannot run\n",
    "              #'BaptisteDoyen/camembert-base-xnli', #cannot run\n",
    "              #'cross-encoder/nli-distilroberta-base',\n",
    "              #'joeddav/bart-large-mnli-yahoo-answers',\n",
    "              #'valhalla/distilbart-mnli-12-6'\n",
    "             ]\n",
    "\n",
    "for model in model_list:\n",
    "    print(model)\n",
    "    classifier = pipeline(\"zero-shot-classification\", model=model)\n",
    "    multi_df_hf_50[model] = multi_df_hf_50['combined'].progress_apply(hf_predict, args=(label_ls, classifier))"
   ]
  },
  {
   "cell_type": "markdown",
   "id": "4baa2e18-bd80-4989-bb7c-fe78c01aefd6",
   "metadata": {},
   "source": [
    "## Model Comparison"
   ]
  },
  {
   "cell_type": "code",
   "execution_count": 65,
   "id": "5c404bb1-64ea-4654-8a83-2838e2b59731",
   "metadata": {},
   "outputs": [
    {
     "data": {
      "text/html": [
       "<div>\n",
       "<style scoped>\n",
       "    .dataframe tbody tr th:only-of-type {\n",
       "        vertical-align: middle;\n",
       "    }\n",
       "\n",
       "    .dataframe tbody tr th {\n",
       "        vertical-align: top;\n",
       "    }\n",
       "\n",
       "    .dataframe thead th {\n",
       "        text-align: right;\n",
       "    }\n",
       "</style>\n",
       "<table border=\"1\" class=\"dataframe\">\n",
       "  <thead>\n",
       "    <tr style=\"text-align: right;\">\n",
       "      <th></th>\n",
       "      <th>accuracy</th>\n",
       "      <th>recall</th>\n",
       "      <th>precision</th>\n",
       "      <th>f1</th>\n",
       "    </tr>\n",
       "  </thead>\n",
       "  <tbody>\n",
       "    <tr>\n",
       "      <th>Tfidf Pycaret</th>\n",
       "      <td>0.5252</td>\n",
       "      <td>0.3795</td>\n",
       "      <td>0.5151</td>\n",
       "      <td>0.5089</td>\n",
       "    </tr>\n",
       "    <tr>\n",
       "      <th>Countvec Pycaret</th>\n",
       "      <td>0.4858</td>\n",
       "      <td>0.3476</td>\n",
       "      <td>0.4841</td>\n",
       "      <td>0.4770</td>\n",
       "    </tr>\n",
       "  </tbody>\n",
       "</table>\n",
       "</div>"
      ],
      "text/plain": [
       "                  accuracy  recall  precision      f1\n",
       "Tfidf Pycaret       0.5252  0.3795     0.5151  0.5089\n",
       "Countvec Pycaret    0.4858  0.3476     0.4841  0.4770"
      ]
     },
     "execution_count": 65,
     "metadata": {},
     "output_type": "execute_result"
    }
   ],
   "source": [
    "hf_scores = {'accuracy':{'Tfidf Pycaret':0.5252, 'Countvec Pycaret':0.4858}, 'recall':{'Tfidf Pycaret':0.3795, 'Countvec Pycaret':0.3476}, 'precision':{'Tfidf Pycaret':0.5151, 'Countvec Pycaret':0.4841}, 'f1':{'Tfidf Pycaret':0.5089, 'Countvec Pycaret':0.4770}}\n",
    "pd.DataFrame(hf_scores)"
   ]
  },
  {
   "cell_type": "code",
   "execution_count": 66,
   "id": "5f39eaa5-02d1-4fd5-874a-fe1c8f76f9a0",
   "metadata": {},
   "outputs": [
    {
     "name": "stdout",
     "output_type": "stream",
     "text": [
      "facebook/bart-large-mnli\n",
      "valhalla/distilbart-mnli-12-1\n",
      "valhalla/distilbart-mnli-12-3\n",
      "typeform/distilbert-base-uncased-mnli\n",
      "Narsil/deberta-large-mnli-zero-cls\n"
     ]
    }
   ],
   "source": [
    "#convert hugging face model result to corresponding numeric value and then log to dataframe hf_scores\n",
    "for column in multi_df_hf_50.columns[2:7]:\n",
    "    print(column)\n",
    "    multi_df_hf_50[column+'-val'] = multi_df_hf_50[column].apply(lambda x: x if type(x) == float else flair_dict[x])\n",
    "    multi_df_hf_50[column+'-val'].fillna(0, inplace = True)\n",
    "    hf_evaluation(column,multi_df_hf_50['link_flair_text'], multi_df_hf_50[column+'-val'])"
   ]
  },
  {
   "cell_type": "code",
   "execution_count": 67,
   "id": "cb280cc4-5aae-429f-b15b-4c9cfae0cc96",
   "metadata": {},
   "outputs": [
    {
     "data": {
      "text/html": [
       "<div>\n",
       "<style scoped>\n",
       "    .dataframe tbody tr th:only-of-type {\n",
       "        vertical-align: middle;\n",
       "    }\n",
       "\n",
       "    .dataframe tbody tr th {\n",
       "        vertical-align: top;\n",
       "    }\n",
       "\n",
       "    .dataframe thead th {\n",
       "        text-align: right;\n",
       "    }\n",
       "</style>\n",
       "<table border=\"1\" class=\"dataframe\">\n",
       "  <thead>\n",
       "    <tr style=\"text-align: right;\">\n",
       "      <th></th>\n",
       "      <th>accuracy</th>\n",
       "      <th>recall</th>\n",
       "      <th>precision</th>\n",
       "      <th>f1</th>\n",
       "    </tr>\n",
       "  </thead>\n",
       "  <tbody>\n",
       "    <tr>\n",
       "      <th>Tfidf Pycaret</th>\n",
       "      <td>0.5252</td>\n",
       "      <td>0.3795</td>\n",
       "      <td>0.515100</td>\n",
       "      <td>0.508900</td>\n",
       "    </tr>\n",
       "    <tr>\n",
       "      <th>Countvec Pycaret</th>\n",
       "      <td>0.4858</td>\n",
       "      <td>0.3476</td>\n",
       "      <td>0.484100</td>\n",
       "      <td>0.477000</td>\n",
       "    </tr>\n",
       "    <tr>\n",
       "      <th>facebook/bart-large-mnli</th>\n",
       "      <td>0.2400</td>\n",
       "      <td>0.2400</td>\n",
       "      <td>0.265000</td>\n",
       "      <td>0.244381</td>\n",
       "    </tr>\n",
       "    <tr>\n",
       "      <th>valhalla/distilbart-mnli-12-1</th>\n",
       "      <td>0.3000</td>\n",
       "      <td>0.3000</td>\n",
       "      <td>0.542857</td>\n",
       "      <td>0.348667</td>\n",
       "    </tr>\n",
       "    <tr>\n",
       "      <th>valhalla/distilbart-mnli-12-3</th>\n",
       "      <td>0.3400</td>\n",
       "      <td>0.3400</td>\n",
       "      <td>0.454667</td>\n",
       "      <td>0.358524</td>\n",
       "    </tr>\n",
       "    <tr>\n",
       "      <th>typeform/distilbert-base-uncased-mnli</th>\n",
       "      <td>0.3200</td>\n",
       "      <td>0.3200</td>\n",
       "      <td>0.431298</td>\n",
       "      <td>0.301917</td>\n",
       "    </tr>\n",
       "    <tr>\n",
       "      <th>Narsil/deberta-large-mnli-zero-cls</th>\n",
       "      <td>0.4400</td>\n",
       "      <td>0.4400</td>\n",
       "      <td>0.516333</td>\n",
       "      <td>0.459902</td>\n",
       "    </tr>\n",
       "  </tbody>\n",
       "</table>\n",
       "</div>"
      ],
      "text/plain": [
       "                                       accuracy  recall  precision        f1\n",
       "Tfidf Pycaret                            0.5252  0.3795   0.515100  0.508900\n",
       "Countvec Pycaret                         0.4858  0.3476   0.484100  0.477000\n",
       "facebook/bart-large-mnli                 0.2400  0.2400   0.265000  0.244381\n",
       "valhalla/distilbart-mnli-12-1            0.3000  0.3000   0.542857  0.348667\n",
       "valhalla/distilbart-mnli-12-3            0.3400  0.3400   0.454667  0.358524\n",
       "typeform/distilbert-base-uncased-mnli    0.3200  0.3200   0.431298  0.301917\n",
       "Narsil/deberta-large-mnli-zero-cls       0.4400  0.4400   0.516333  0.459902"
      ]
     },
     "execution_count": 67,
     "metadata": {},
     "output_type": "execute_result"
    }
   ],
   "source": [
    "pd.DataFrame(hf_scores)"
   ]
  },
  {
   "cell_type": "markdown",
   "id": "3d310306-f37b-4d1a-8b31-9fabb6dc479a",
   "metadata": {},
   "source": [
    "The ridge classification suggested by pycaret using tfidf has the best accuracy and F1 score. Hence, we will download that model"
   ]
  },
  {
   "cell_type": "markdown",
   "id": "d9a9ba9a-a20b-43da-ab9b-569b6bab6744",
   "metadata": {},
   "source": [
    "## Save Model"
   ]
  },
  {
   "cell_type": "markdown",
   "id": "df9e2048-87e5-4570-9b42-3029a270c421",
   "metadata": {
    "tags": []
   },
   "source": [
    "### Attempt to save best pycaret model directly\n",
    "Although we are able to save the model directly generated by pycaret, It will not run because of the custom pipeline that we put in"
   ]
  },
  {
   "cell_type": "code",
   "execution_count": 18,
   "id": "00eca301-f5ae-4b56-8abc-ebd0f92f4d8c",
   "metadata": {
    "scrolled": true,
    "tags": []
   },
   "outputs": [
    {
     "name": "stdout",
     "output_type": "stream",
     "text": [
      "Transformation Pipeline and Model Successfully Saved\n"
     ]
    },
    {
     "data": {
      "text/plain": [
       "(Pipeline(memory=None,\n",
       "          steps=[('dtypes',\n",
       "                  DataTypes_Auto_infer(categorical_features=[],\n",
       "                                       display_types=False, features_todrop=[],\n",
       "                                       id_columns=[],\n",
       "                                       ml_usecase='classification',\n",
       "                                       numerical_features=[],\n",
       "                                       target='link_flair_text',\n",
       "                                       time_features=[])),\n",
       "                 ('custom_step',\n",
       "                  ColumnTransformer(n_jobs=None, remainder='drop',\n",
       "                                    sparse_threshold=0.3,\n",
       "                                    transformer_weights=None,\n",
       "                                    transformers...\n",
       "                                                                                    token_pattern='\\\\w+',\n",
       "                                                                                    tokenizer=None,\n",
       "                                                                                    vocabulary=None)),\n",
       "                                                                   ('tfidf',\n",
       "                                                                    TfidfTransformer(norm='l2',\n",
       "                                                                                     smooth_idf=True,\n",
       "                                                                                     sublinear_tf=False,\n",
       "                                                                                     use_idf=True))],\n",
       "                                                            verbose=False),\n",
       "                                                   'combined')],\n",
       "                                    verbose=False)),\n",
       "                 ['trained_model',\n",
       "                  RidgeClassifier(alpha=1.0, class_weight=None, copy_X=True,\n",
       "                                  fit_intercept=True, max_iter=None,\n",
       "                                  normalize=False, random_state=42,\n",
       "                                  solver='auto', tol=0.001)]],\n",
       "          verbose=False),\n",
       " 'best_multiclass_model.pkl')"
      ]
     },
     "execution_count": 18,
     "metadata": {},
     "output_type": "execute_result"
    }
   ],
   "source": [
    "save_model(best_model[0], 'best_multiclass_model')"
   ]
  },
  {
   "cell_type": "code",
   "execution_count": 19,
   "id": "4e442f63-cff6-467e-adcf-6036c5905194",
   "metadata": {
    "scrolled": true,
    "tags": []
   },
   "outputs": [
    {
     "name": "stdout",
     "output_type": "stream",
     "text": [
      "Transformation Pipeline and Model Successfully Loaded\n",
      "Pipeline(memory=None,\n",
      "         steps=[('dtypes',\n",
      "                 DataTypes_Auto_infer(categorical_features=[],\n",
      "                                      display_types=False, features_todrop=[],\n",
      "                                      id_columns=[],\n",
      "                                      ml_usecase='classification',\n",
      "                                      numerical_features=[],\n",
      "                                      target='link_flair_text',\n",
      "                                      time_features=[])),\n",
      "                ('custom_step',\n",
      "                 ColumnTransformer(n_jobs=None, remainder='drop',\n",
      "                                   sparse_threshold=0.3,\n",
      "                                   transformer_weights=None,\n",
      "                                   transformers...\n",
      "                                                                                   token_pattern='\\\\w+',\n",
      "                                                                                   tokenizer=None,\n",
      "                                                                                   vocabulary=None)),\n",
      "                                                                  ('tfidf',\n",
      "                                                                   TfidfTransformer(norm='l2',\n",
      "                                                                                    smooth_idf=True,\n",
      "                                                                                    sublinear_tf=False,\n",
      "                                                                                    use_idf=True))],\n",
      "                                                           verbose=False),\n",
      "                                                  'combined')],\n",
      "                                   verbose=False)),\n",
      "                ['trained_model',\n",
      "                 RidgeClassifier(alpha=1.0, class_weight=None, copy_X=True,\n",
      "                                 fit_intercept=True, max_iter=None,\n",
      "                                 normalize=False, random_state=42,\n",
      "                                 solver='auto', tol=0.001)]],\n",
      "         verbose=False)\n"
     ]
    }
   ],
   "source": [
    "loaded_model = load_model('best_multiclass_model')\n",
    "print(loaded_model)"
   ]
  },
  {
   "cell_type": "markdown",
   "id": "6271e3a1-01af-4848-a127-3c81641d6aca",
   "metadata": {
    "tags": []
   },
   "source": [
    "### Manually run best model suggested by Pycaret (Ridge Classification) and save from mlflow"
   ]
  },
  {
   "cell_type": "code",
   "execution_count": 20,
   "id": "2331814c-05d3-4846-9f27-7071761c9fa0",
   "metadata": {},
   "outputs": [],
   "source": [
    "tfvec = TfidfVectorizer(ngram_range = (1,2), stop_words = 'english', token_pattern = '\\w+')"
   ]
  },
  {
   "cell_type": "code",
   "execution_count": 21,
   "id": "e587886c-cac7-45ec-be1b-fbd2784496da",
   "metadata": {},
   "outputs": [],
   "source": [
    "X = tfvec.fit_transform(multi_df['combined'])"
   ]
  },
  {
   "cell_type": "code",
   "execution_count": 22,
   "id": "c6faf6e8-b6ed-4e7a-8fcb-1bade8201e50",
   "metadata": {},
   "outputs": [],
   "source": [
    "y = multi_df['link_flair_text']"
   ]
  },
  {
   "cell_type": "code",
   "execution_count": 23,
   "id": "cb4f9ec5-221c-496c-8f56-f4da7ab95143",
   "metadata": {},
   "outputs": [],
   "source": [
    "X_train, X_test, y_train, y_test = train_test_split(X,\n",
    "                                                    y,\n",
    "                                                    random_state=42,\n",
    "                                                    stratify=y)"
   ]
  },
  {
   "cell_type": "code",
   "execution_count": 24,
   "id": "1bc873ef-966b-4ce5-8c13-3c436e8864b9",
   "metadata": {},
   "outputs": [],
   "source": [
    "rc = RidgeClassifier(alpha=1.0, class_weight=None, copy_X=True, fit_intercept=True,\n",
    "                max_iter=None, normalize=False, random_state=42, solver='auto',\n",
    "                tol=0.001)"
   ]
  },
  {
   "cell_type": "code",
   "execution_count": 25,
   "id": "f6d82e94-590a-4439-8104-1ec2d6474a28",
   "metadata": {},
   "outputs": [
    {
     "data": {
      "text/plain": [
       "RidgeClassifier(alpha=1.0, class_weight=None, copy_X=True, fit_intercept=True,\n",
       "                max_iter=None, normalize=False, random_state=42, solver='auto',\n",
       "                tol=0.001)"
      ]
     },
     "execution_count": 25,
     "metadata": {},
     "output_type": "execute_result"
    }
   ],
   "source": [
    "rc.fit(X_train, y_train)"
   ]
  },
  {
   "cell_type": "code",
   "execution_count": 26,
   "id": "7aab7b33-1341-4606-bd7e-1e89721fd802",
   "metadata": {},
   "outputs": [
    {
     "data": {
      "text/plain": [
       "0.980711690532165"
      ]
     },
     "execution_count": 26,
     "metadata": {},
     "output_type": "execute_result"
    }
   ],
   "source": [
    "rc.score(X_train, y_train)"
   ]
  },
  {
   "cell_type": "code",
   "execution_count": 27,
   "id": "7f563e6e-9c08-4332-8a39-daece4195404",
   "metadata": {},
   "outputs": [
    {
     "data": {
      "text/plain": [
       "0.5241224555217182"
      ]
     },
     "execution_count": 27,
     "metadata": {},
     "output_type": "execute_result"
    }
   ],
   "source": [
    "rc.score(X_test, y_test)"
   ]
  },
  {
   "cell_type": "code",
   "execution_count": 28,
   "id": "41c79187-beff-450e-8046-4773f4b335f8",
   "metadata": {},
   "outputs": [],
   "source": [
    "y_pred = rc.predict(X_test)"
   ]
  },
  {
   "cell_type": "code",
   "execution_count": 29,
   "id": "6ad416e5-125f-4e69-a912-2d3e9ded9ad0",
   "metadata": {},
   "outputs": [
    {
     "data": {
      "text/plain": [
       "0.5834560709215025"
      ]
     },
     "execution_count": 29,
     "metadata": {},
     "output_type": "execute_result"
    }
   ],
   "source": [
    "precision_score(y_pred, y_test, average='weighted')"
   ]
  },
  {
   "cell_type": "code",
   "execution_count": null,
   "id": "836ddaab-9745-440e-aa8f-4b85d4fc38f5",
   "metadata": {},
   "outputs": [],
   "source": [
    "#Based on logged models on mlflow, this is the best model thus far. Hence, We will select this to deploy.\n",
    "from mlflow.artifacts import download_artifacts\n",
    "\n",
    "# Download the desired model from MLFlow to local directory\n",
    "# Get the URL by following instructions in above image (full path will be from 'model' folder instead for non-hyperparameter runs)\n",
    "full_path = './mlruns/3/a99dc4b981da4305af964b66a9a54365/artifacts/model' # paste copied full path from best_estimator\n",
    "download_artifacts(full_path, dst_path='./models') # download from source: full_path, destination path: where this solution code notebook is located (can reference with '.')\n",
    "os.rename('./models/model','./models/model_multiclass') #change name to 'model_multiclass'"
   ]
  },
  {
   "cell_type": "code",
   "execution_count": null,
   "id": "fb5084dd-9f27-4bb0-8888-e7155914b4ae",
   "metadata": {},
   "outputs": [
    {
     "data": {
      "text/plain": [
       "['./models/model_multiclass/tfidf.pkl']"
      ]
     },
     "execution_count": 172,
     "metadata": {},
     "output_type": "execute_result"
    }
   ],
   "source": [
    "# Saving of tfidf vectoriser\n",
    "import joblib\n",
    "filename = './models/model_multiclass/tfidf.pkl'\n",
    "joblib.dump(tfvec, filename)"
   ]
  },
  {
   "cell_type": "markdown",
   "id": "35d67722-cb13-47d7-b222-ab913c11ebc9",
   "metadata": {},
   "source": [
    "### Testing"
   ]
  },
  {
   "cell_type": "code",
   "execution_count": 9,
   "id": "340a1b97-1628-43ce-b5ed-29b1897beea0",
   "metadata": {},
   "outputs": [],
   "source": [
    "#load model from mlflow\n",
    "import mlflow.pyfunc\n",
    "import joblib\n",
    "\n",
    "# only run the following code on local machine only if you are able to download ./models/model_multiclass/model.pkl from github\n",
    "# otherwise, download the model from this aws s3 code first, save it into the .models/model_multiclass folder: https://generalassemblydsi32.s3.ap-southeast-1.amazonaws.com/model_multiclass/model.pkl\n",
    "# We have to do the above as github might have issue with file limit exceeding 50mb. Hence, file was uploaded on aws s3 instead.\n",
    "model = mlflow.pyfunc.load_model(model_uri=\"./models/model_multiclass\")\n",
    "\n",
    "#load tfidf vectorizer from disk\n",
    "tfidf = joblib.load(\"./models/model_multiclass/tfidf.pkl\")"
   ]
  },
  {
   "cell_type": "code",
   "execution_count": 12,
   "id": "96df1972-2605-4315-898b-3d35fc4b9590",
   "metadata": {},
   "outputs": [],
   "source": [
    "user_input1 = \"Living in a corrupt environment makes you more likely to believe in conspiracy theories, regardless of your politics https://www.psypost.org/2022/09/living-in-a-corrupt-environment-makes-you-more-likely-to-believe-in-conspiracy-theories-regardless-of-your-politics-63974\"\n",
    "input_pred1 = model.predict(tfidf.transform(pd.Series(user_input1)))[0]"
   ]
  },
  {
   "cell_type": "code",
   "execution_count": 13,
   "id": "3958af9c-c16c-43ad-a24d-9e17f1f1baca",
   "metadata": {},
   "outputs": [
    {
     "data": {
      "text/plain": [
       "{'Expected': 'Psychology', 'Result': {'Psychology'}}"
      ]
     },
     "execution_count": 13,
     "metadata": {},
     "output_type": "execute_result"
    }
   ],
   "source": [
    "{'Expected':'Psychology', 'Result': {i for i in flair_dict if flair_dict[i]==input_pred1}}"
   ]
  },
  {
   "cell_type": "code",
   "execution_count": 14,
   "id": "b4d38bee-84ea-40ed-b20b-e5518735fd57",
   "metadata": {},
   "outputs": [],
   "source": [
    "user_input2 = \"Physicist Stephen Hawking dies aged 76 We regret to hear that Stephen Hawking died tonight at the age of 76. We are creating a megathread for discussion of this topic here. The typical r/science comment rules will not apply and we will allow mature, open discussion. This post may be updated as we are able. A few relevant links: Stephen Hawking's AMA on /r/science. BBC's Obituary for Stephen Hawking. If you would like to make a donation in his memory, the Stephen Hawking Foundation has the Dignity Campaign to help buy adapted wheelchair equipment for people suffering from motor neuron diseases. You could also consider donating to the ALS Association to support research into finding a cure for ALS and to provide support to ALS patients. http://www.bbc.com/news/uk-43396008\"\n",
    "input_pred2 = model.predict(tfidf.transform(pd.Series(user_input2)))[0]"
   ]
  },
  {
   "cell_type": "code",
   "execution_count": 15,
   "id": "0b756c5d-b917-41dc-8e96-d4afda703ae4",
   "metadata": {},
   "outputs": [
    {
     "data": {
      "text/plain": [
       "{'Expected': 'Breaking News', 'Result': {'Physics'}}"
      ]
     },
     "execution_count": 15,
     "metadata": {},
     "output_type": "execute_result"
    }
   ],
   "source": [
    "{'Expected':'Breaking News', 'Result': {i for i in flair_dict if flair_dict[i]==input_pred2}}"
   ]
  },
  {
   "cell_type": "code",
   "execution_count": 16,
   "id": "6c2fc941-25c2-4a81-b567-3931299bb1c7",
   "metadata": {},
   "outputs": [],
   "source": [
    "user_input3 = \"Since legalizing cannabis in 2012, crime clearance rates are increasing faster in Washington and Colorado than the rest of country, suggesting that legalization may free police to focus on more serious crimes. https://www.google.com/amp/s/www.washingtonpost.com/amphtml/business/2018/07/18/does-legal-weed-make-police-more-effective/\"\n",
    "input_pred3 = model.predict(tfidf.transform(pd.Series(user_input3)))[0]"
   ]
  },
  {
   "cell_type": "code",
   "execution_count": 17,
   "id": "1259b8ac-1df2-4bb2-b4ee-bf448be9a1cc",
   "metadata": {},
   "outputs": [
    {
     "data": {
      "text/plain": [
       "{'Expected': 'Social Science', 'Result': {'Social Science'}}"
      ]
     },
     "execution_count": 17,
     "metadata": {},
     "output_type": "execute_result"
    }
   ],
   "source": [
    "{'Expected':'Social Science', 'Result': {i for i in flair_dict if flair_dict[i]==input_pred3}}"
   ]
  },
  {
   "cell_type": "code",
   "execution_count": 18,
   "id": "46d40a55-a799-4c33-ad5a-749c8aa610bb",
   "metadata": {},
   "outputs": [],
   "source": [
    "user_input4 = \"No evidence to support link between violent video games and behaviour - Researchers at the University of York have found no evidence to support the theory that video games make players more violent. https://www.york.ac.uk/news-and-events/news/2018/research/no-evidence-to-link-violence-and-video-games/\"\n",
    "input_pred4 = model.predict(tfidf.transform(pd.Series(user_input4)))[0]"
   ]
  },
  {
   "cell_type": "code",
   "execution_count": 19,
   "id": "e84468ee-d04d-44b4-87d5-9a8817d25311",
   "metadata": {},
   "outputs": [
    {
     "data": {
      "text/plain": [
       "{'Expected': 'Psychology', 'Result': {'Psychology'}}"
      ]
     },
     "execution_count": 19,
     "metadata": {},
     "output_type": "execute_result"
    }
   ],
   "source": [
    "{'Expected':'Psychology', 'Result': {i for i in flair_dict if flair_dict[i]==input_pred4}}"
   ]
  }
 ],
 "metadata": {
  "kernelspec": {
   "display_name": "Python 3 (ipykernel)",
   "language": "python",
   "name": "python3"
  },
  "language_info": {
   "codemirror_mode": {
    "name": "ipython",
    "version": 3
   },
   "file_extension": ".py",
   "mimetype": "text/x-python",
   "name": "python",
   "nbconvert_exporter": "python",
   "pygments_lexer": "ipython3",
   "version": "3.8.13"
  }
 },
 "nbformat": 4,
 "nbformat_minor": 5
}
