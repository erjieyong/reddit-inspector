{
 "cells": [
  {
   "cell_type": "code",
   "execution_count": 1,
   "id": "fb9e39e9-a4e2-4ce9-b347-f4fb4464d643",
   "metadata": {},
   "outputs": [],
   "source": [
    "import pandas as pd     \n",
    "import spacy\n",
    "from spacytextblob.spacytextblob import SpacyTextBlob"
   ]
  },
  {
   "cell_type": "code",
   "execution_count": 2,
   "id": "8b210e2f-0659-4f89-8efb-79238f615c05",
   "metadata": {},
   "outputs": [
    {
     "data": {
      "text/plain": [
       "<spacytextblob.spacytextblob.SpacyTextBlob at 0x13aa43f66a0>"
      ]
     },
     "execution_count": 2,
     "metadata": {},
     "output_type": "execute_result"
    }
   ],
   "source": [
    "# From Spacy documentation on using their sentiment analysis\n",
    "nlp = spacy.load('en_core_web_sm')\n",
    "nlp.add_pipe('spacytextblob')"
   ]
  },
  {
   "cell_type": "code",
   "execution_count": 8,
   "id": "b41978ae-9c83-470b-9925-5432f400ec51",
   "metadata": {},
   "outputs": [],
   "source": [
    "def sentiment(text):\n",
    "    spacy_output = nlp(text)\n",
    "    if spacy_output._.polarity > 0.33:\n",
    "        sentiment = 'Positive'\n",
    "    elif spacy_output._.polarity < -0.33:\n",
    "        sentiment = 'Negative'\n",
    "    else:\n",
    "        sentiment = 'Neutral'\n",
    "    if spacy_output._.subjectivity < 0.5:\n",
    "        subjectivity = 'Objective'\n",
    "    else:\n",
    "        subjectivity = 'Subjective'\n",
    "    return sentiment, round(spacy_output._.polarity,2), subjectivity, round(spacy_output._.subjectivity,2)"
   ]
  },
  {
   "cell_type": "code",
   "execution_count": 9,
   "id": "6e217073-07f9-4481-aec6-b1c76ae41eb9",
   "metadata": {},
   "outputs": [],
   "source": [
    "user_input_science = {\"title\": \"Physicist Stephen Hawking dies aged 76\", \"selftext\": \"We regret to hear that Stephen Hawking died tonight at the age of 76. We are creating a megathread for discussion of this topic here. The typical r/science comment rules will not apply and we will allow mature, open discussion. This post may be updated as we are able. A few relevant links: Stephen Hawking's AMA on /r/science. BBC's Obituary for Stephen Hawking. If you would like to make a donation in his memory, the Stephen Hawking Foundation has the Dignity Campaign to help buy adapted wheelchair equipment for people suffering from motor neuron diseases. You could also consider donating to the ALS Association to support research into finding a cure for ALS and to provide support to ALS patients\", \"url\": \"http://www.bbc.com/news/uk-43396008\"}"
   ]
  },
  {
   "cell_type": "code",
   "execution_count": 10,
   "id": "8785dd26-6fca-4e2c-9fb8-92490935ef07",
   "metadata": {},
   "outputs": [],
   "source": [
    "user_input_philo = {\"title\": \"Only fragments of ancient Greek philosopher Epicurus’s writings remain. Among them are his Principal Doctrines: 40 brilliant, authoritative aphorisms that summarize the Epicurean approach to living a good life — an approach focused on removing pain & anxiety, & on emphasizing friendship & community.\", \"selftext\":\"\", \"url\": \"https://philosophybreak.com/articles/epicurus-principal-doctrines-40-aphorisms-for-living-well/?utm_source=reddit&utm_medium=social\"}"
   ]
  },
  {
   "cell_type": "code",
   "execution_count": 11,
   "id": "cd40092a-f916-4373-b78c-b7f611426892",
   "metadata": {},
   "outputs": [],
   "source": [
    "science = ' '.join(map(str, user_input_science.values()))\n",
    "philo = ' '.join(map(str, user_input_philo.values()))"
   ]
  },
  {
   "cell_type": "code",
   "execution_count": 12,
   "id": "6b8fc7ad-5382-4cba-85b6-06425f974160",
   "metadata": {},
   "outputs": [
    {
     "data": {
      "text/plain": [
       "('Neutral', 0.08, 'Objective', 0.45)"
      ]
     },
     "execution_count": 12,
     "metadata": {},
     "output_type": "execute_result"
    }
   ],
   "source": [
    "sentiment(science)"
   ]
  },
  {
   "cell_type": "code",
   "execution_count": null,
   "id": "36ee0c99-6a83-4125-8bc5-1252014cedc6",
   "metadata": {},
   "outputs": [],
   "source": []
  }
 ],
 "metadata": {
  "kernelspec": {
   "display_name": "Python 3 (ipykernel)",
   "language": "python",
   "name": "python3"
  },
  "language_info": {
   "codemirror_mode": {
    "name": "ipython",
    "version": 3
   },
   "file_extension": ".py",
   "mimetype": "text/x-python",
   "name": "python",
   "nbconvert_exporter": "python",
   "pygments_lexer": "ipython3",
   "version": "3.8.13"
  }
 },
 "nbformat": 4,
 "nbformat_minor": 5
}
