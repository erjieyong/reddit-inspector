{
 "cells": [
  {
   "cell_type": "markdown",
   "id": "89feeca6-99c8-4dbd-b44e-de6b84e49cef",
   "metadata": {},
   "source": [
    "# A notebook to test out the summariser function using hugging face model"
   ]
  },
  {
   "cell_type": "code",
   "execution_count": 2,
   "id": "88f784a4-37cd-413f-b876-7ce042f52f2b",
   "metadata": {},
   "outputs": [],
   "source": [
    "import requests\n",
    "from bs4 import BeautifulSoup\n",
    "from transformers import pipeline"
   ]
  },
  {
   "cell_type": "code",
   "execution_count": 3,
   "id": "e12e1c6d-45b9-43d9-ba11-ad577eccd2ac",
   "metadata": {},
   "outputs": [],
   "source": [
    "hf_summarizer = pipeline('summarization', 'sshleifer/distilbart-cnn-12-6')"
   ]
  },
  {
   "cell_type": "code",
   "execution_count": 42,
   "id": "d48b847d-5db7-4125-894e-879b48b6771d",
   "metadata": {},
   "outputs": [],
   "source": [
    "def summariser(url):\n",
    "    if len(url) > 1:\n",
    "        # pass in header in attempt to hide that this is an automated web crawler\n",
    "        headers = {'User-Agent': 'Mozilla/5.0 (Macintosh; Intel Mac OS X 10_11_5) AppleWebKit/537.36 (KHTML, like Gecko) Chrome/50.0.2661.102 Safari/537.36'}\n",
    "        response = requests.get(url, headers=headers)\n",
    "        if response.status_code == 200:\n",
    "            html = response.text\n",
    "            soup = BeautifulSoup(html, 'lxml')\n",
    "            all_p = soup.find_all('p')\n",
    "            relevant_p = ''\n",
    "            for p in all_p:\n",
    "                # We assume that if the sentence has less than 10 words, it will not be of value to article\n",
    "                if len(p.text.split(' ')) > 10:\n",
    "                    relevant_p += (p.text + ' ')\n",
    "            #we cap it to 700 because there's a limit of words that the hugging face model can take\n",
    "            relevant_p_trimmed = ' '.join(relevant_p.split(' ')[:700])\n",
    "            return hf_summarizer(relevant_p_trimmed)[0]['summary_text'], relevant_p\n",
    "        else:\n",
    "            #return error message if unable to crawl website\n",
    "            return \"ERROR! Unable to crawl website. Please check if the link is valid or if the website allows automated web crawling\", \"a\"\n",
    "    else:\n",
    "        #return error message if no the url length is only 1\n",
    "        return \"ERROR! Please pass in a valid url\", \"a\""
   ]
  },
  {
   "cell_type": "code",
   "execution_count": 44,
   "id": "f1fd1b74-59a2-4b0b-a8c8-67c0ee084fdf",
   "metadata": {},
   "outputs": [
    {
     "name": "stdout",
     "output_type": "stream",
     "text": [
      " Only fragments of ancient Greek philosopher Epicurus’s writings remain . Among them are his Principal Doctrines: 40 brilliant, authoritative aphorisms that summarize the Epicurean approach to living a good life . Epicureans have things to say not just about ethics, but also share rich views on metaphysics, epistemology, and — more famously — why mortality is nothing to fear .\n"
     ]
    }
   ],
   "source": [
    "url = \"https://philosophybreak.com/articles/epicurus-principal-doctrines-40-aphorisms-for-living-well/?utm_source=reddit&utm_medium=social\"\n",
    "print(summariser(url))"
   ]
  },
  {
   "cell_type": "markdown",
   "id": "d3652e87-5dda-4c48-b39c-28a5de16db5f",
   "metadata": {},
   "source": [
    "## Note\n",
    "The code in this notebook is ultimately copied and pasted in `project_3.4_deployment.ipynb` so that it can be run and deployed on google cloud itself"
   ]
  }
 ],
 "metadata": {
  "kernelspec": {
   "display_name": "Python 3 (ipykernel)",
   "language": "python",
   "name": "python3"
  },
  "language_info": {
   "codemirror_mode": {
    "name": "ipython",
    "version": 3
   },
   "file_extension": ".py",
   "mimetype": "text/x-python",
   "name": "python",
   "nbconvert_exporter": "python",
   "pygments_lexer": "ipython3",
   "version": "3.8.13"
  }
 },
 "nbformat": 4,
 "nbformat_minor": 5
}
