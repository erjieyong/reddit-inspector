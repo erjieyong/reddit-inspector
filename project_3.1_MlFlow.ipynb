{
 "cells": [
  {
   "cell_type": "markdown",
   "id": "b80d91d2-6e60-492d-805b-0d02aeff96f2",
   "metadata": {},
   "source": [
    "# Reddit Post Inspector\n",
    "Inspect and tune your reddit posts before posting\n",
    "\n",
    "# Introduction\n",
    "## Background\n",
    "Is science a part of philosophy or are they 2 totally different subjects? According to [nytimes](https://archive.nytimes.com/opinionator.blogs.nytimes.com/2012/04/05/philosophy-is-not-a-science/), for roughly 98 percent of the last 2,500 years of Western intellectual history, philosophy was considered the mother of all knowledge. However, at the same time, we live an age in which many seem no longer sure what philosophy is or is good for anymore. Most seem to see it as a highly abstracted discipline with little if any bearing on objective reality — something more akin to art, literature or religion. \n",
    "\n",
    "## Problem Statement\n",
    "Without a clear distinction, many users of reddits are facing challenge deciding which subreddits (Science or Philosophy) to post to.\n",
    "\n",
    "## Assumptions\n",
    "- Both subreddits have already been human moderated and thus have the best possible split to distinguish between Science and Philosophy\n",
    "\n",
    "## Mission\n",
    "As moderators of both Science and Philosophy subreddits, both of which have substantial members (28 and 17 millions), we set out to use machine learning to assist our users with\n",
    "- Making a clear distinction of which subreddit to use when they have things to share\n",
    "Concurrently, to create a more useful tool for our members, we added the following functions\n",
    "- Subcategory selection (eg. health, chemistry, environment) for science subreddit only. To reduce confusion for users as there are often many overlapping areas between the subcategories such as health and environment.\n",
    "- Sentiment analysis to assist users to evaluate their post's sentiment and subjectivity. A more neutral and objective posts lends more credibility to their post.\n",
    "- Summarise the content of a user's shared url, to encourage user to share a summary when posting. Currently, less than 0.01% of posts have any description other than the title. \n",
    "\n",
    "## Scope\n",
    "Based on Pushshift's API, we will download around 25,000 posts each to Science and Philosophy subreddits. Through a combination of features in this dataset, we aim to \n",
    "- classify posts accordingly to Science or Philosophy (binary classification)\n",
    "- classify subcategories of Science based on its current 27 subcategories (multiclass classification)\n",
    "- generate a summary of user's shared url through application of hugging face's model\n",
    "- perform a sentiment analysis on posts through application of spacy's model\n",
    "\n",
    "## Success Factor\n",
    "Our model success would be evaluated based on\n",
    "- the accuracy of our binary classification\n",
    "- the accuracy of our multiclass classification\n",
    "- output of sentiment and subjectivity\n",
    "- succesful web crawling of user's shared url\n",
    "- generation of summary for each posts"
   ]
  },
  {
   "cell_type": "markdown",
   "id": "35fa7d83-8846-401a-815f-6c58a0b0b28d",
   "metadata": {},
   "source": [
    "To get a complete flow of the project, please follow through the notebooks in this sequence \n",
    "## Notebooks\n",
    "- [`project_3.1_MlFlow.ipynb`](project_3.1_MlFlow.ipynb): Activating the user interface for mlflow\n",
    "- [`project_3.2_data_extraction.ipynb`](project_3.2_data_extraction.ipynb): Data extraction using Pushshift's API\n",
    "- [`project_3.31_main.ipynb`](project_3.31_main.ipynb): Main notebook where EDA, Data cleaning and binary classification is performed\n",
    "- [`project_3.32_multiclass.ipynb`](project_3.32_multiclass.ipynb): Notebook to focus solely on multiclass classification, building on top of datasets from the main notebook\n",
    "- [`project_3.33_summary.ipynb`](project_3.33_summary.ipynb): Notebook to test run hugging's face summariser model\n",
    "- [`project_3.34_sentiment.ipynb`](project_3.34_sentiment.ipynb): Notebook to test run spacy's model\n",
    "- [`project_3.4_deployment.ipynb`](project_3.4_deployment.ipynb): Notebook to consolidate all the previous notebooks's output, upload to google cloud and visualise it via streamlit"
   ]
  },
  {
   "cell_type": "code",
   "execution_count": null,
   "id": "197b2db0-9413-49c1-bec0-212201be0320",
   "metadata": {},
   "outputs": [],
   "source": [
    "# Start the MLFlow UI\n",
    "! mlflow ui --backend-store-uri sqlite:///mlflow.db --port 5000"
   ]
  }
 ],
 "metadata": {
  "kernelspec": {
   "display_name": "Python 3 (ipykernel)",
   "language": "python",
   "name": "python3"
  },
  "language_info": {
   "codemirror_mode": {
    "name": "ipython",
    "version": 3
   },
   "file_extension": ".py",
   "mimetype": "text/x-python",
   "name": "python",
   "nbconvert_exporter": "python",
   "pygments_lexer": "ipython3",
   "version": "3.8.13"
  }
 },
 "nbformat": 4,
 "nbformat_minor": 5
}
