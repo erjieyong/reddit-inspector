{
 "cells": [
  {
   "cell_type": "code",
   "execution_count": 1,
   "id": "6de8861e-7c36-47f0-a76e-60a996009dd5",
   "metadata": {},
   "outputs": [],
   "source": [
    "import requests, time\n",
    "import pandas as pd"
   ]
  },
  {
   "cell_type": "code",
   "execution_count": 2,
   "id": "e854ca13-121a-4acf-a8c2-77d619d556fa",
   "metadata": {},
   "outputs": [],
   "source": [
    "url = 'https://api.pushshift.io/reddit/search/submission'"
   ]
  },
  {
   "cell_type": "code",
   "execution_count": 3,
   "id": "90806e8b-566b-4c7e-9dcc-33e38cc6b973",
   "metadata": {},
   "outputs": [
    {
     "data": {
      "text/html": [
       "<div>\n",
       "<style scoped>\n",
       "    .dataframe tbody tr th:only-of-type {\n",
       "        vertical-align: middle;\n",
       "    }\n",
       "\n",
       "    .dataframe tbody tr th {\n",
       "        vertical-align: top;\n",
       "    }\n",
       "\n",
       "    .dataframe thead th {\n",
       "        text-align: right;\n",
       "    }\n",
       "</style>\n",
       "<table border=\"1\" class=\"dataframe\">\n",
       "  <thead>\n",
       "    <tr style=\"text-align: right;\">\n",
       "      <th></th>\n",
       "    </tr>\n",
       "  </thead>\n",
       "  <tbody>\n",
       "  </tbody>\n",
       "</table>\n",
       "</div>"
      ],
      "text/plain": [
       "Empty DataFrame\n",
       "Columns: []\n",
       "Index: []"
      ]
     },
     "execution_count": 3,
     "metadata": {},
     "output_type": "execute_result"
    }
   ],
   "source": [
    "science_df = {}\n",
    "science_df = pd.DataFrame(science_df)\n",
    "science_df"
   ]
  },
  {
   "cell_type": "code",
   "execution_count": 4,
   "id": "70ecba75-321f-4a25-90da-6ce763fd2870",
   "metadata": {},
   "outputs": [],
   "source": [
    "for i in range(100):\n",
    "    params = {\n",
    "        'subreddit':'science',\n",
    "        'size': 250,\n",
    "        #if there's df is empty, use current unix time, otherwise, use the earlist time in the df\n",
    "        'before': science_df['created_utc'].iloc[-1] if len(science_df)>0 else (pd.Timestamp.now() - pd.Timestamp(\"1970-01-01\")) // pd.Timedelta('1s')\n",
    "    }\n",
    "    res = requests.get(url, params)\n",
    "    if res.status_code == 200:\n",
    "        data = res.json()\n",
    "    #create new df with new data from subreddit\n",
    "    science_df_new = pd.DataFrame(data['data'])\n",
    "    \n",
    "    #merge new df to overall df\n",
    "    science_df = pd.concat([science_df, science_df_new], ignore_index= True)\n",
    "    \n",
    "    #pause for 3 seconds\n",
    "    time.sleep(3)\n",
    "    "
   ]
  },
  {
   "cell_type": "code",
   "execution_count": 5,
   "id": "61ff7b8a-a844-4fd3-8447-2f7f58210d98",
   "metadata": {},
   "outputs": [
    {
     "data": {
      "text/html": [
       "<div>\n",
       "<style scoped>\n",
       "    .dataframe tbody tr th:only-of-type {\n",
       "        vertical-align: middle;\n",
       "    }\n",
       "\n",
       "    .dataframe tbody tr th {\n",
       "        vertical-align: top;\n",
       "    }\n",
       "\n",
       "    .dataframe thead th {\n",
       "        text-align: right;\n",
       "    }\n",
       "</style>\n",
       "<table border=\"1\" class=\"dataframe\">\n",
       "  <thead>\n",
       "    <tr style=\"text-align: right;\">\n",
       "      <th></th>\n",
       "    </tr>\n",
       "  </thead>\n",
       "  <tbody>\n",
       "  </tbody>\n",
       "</table>\n",
       "</div>"
      ],
      "text/plain": [
       "Empty DataFrame\n",
       "Columns: []\n",
       "Index: []"
      ]
     },
     "execution_count": 5,
     "metadata": {},
     "output_type": "execute_result"
    }
   ],
   "source": [
    "phil_df = {}\n",
    "phil_df = pd.DataFrame(phil_df)\n",
    "phil_df"
   ]
  },
  {
   "cell_type": "code",
   "execution_count": 6,
   "id": "fb7de7f1-3550-49d5-b94c-91a34afdb5d1",
   "metadata": {},
   "outputs": [],
   "source": [
    "for i in range(100):\n",
    "    params = {\n",
    "        'subreddit':'philosophy',\n",
    "        'size': 250,\n",
    "        #if there's df is empty, use current unix time, otherwise, use the earlist time in the df\n",
    "        'before': phil_df['created_utc'].iloc[-1] if len(phil_df)>0 else (pd.Timestamp.now() - pd.Timestamp(\"1970-01-01\")) // pd.Timedelta('1s')\n",
    "    }\n",
    "    res = requests.get(url, params)\n",
    "    if res.status_code == 200:\n",
    "        data = res.json()\n",
    "    #create new df with new data from subreddit\n",
    "    phil_df_new = pd.DataFrame(data['data'])\n",
    "    \n",
    "    #merge new df to overall df\n",
    "    phil_df = pd.concat([phil_df, phil_df_new], ignore_index= True)\n",
    "    \n",
    "    #pause for 3 seconds\n",
    "    time.sleep(3)\n",
    "    "
   ]
  },
  {
   "cell_type": "code",
   "execution_count": 7,
   "id": "fc4d390c-9ab9-4b7b-83db-4e3a211b5955",
   "metadata": {},
   "outputs": [],
   "source": [
    "science_df.to_csv('datasets/science.csv', index = False)"
   ]
  },
  {
   "cell_type": "code",
   "execution_count": 8,
   "id": "580457d9-5459-45cd-b414-a8e7fb42e1cb",
   "metadata": {},
   "outputs": [],
   "source": [
    "phil_df.to_csv('datasets/philosophy.csv', index = False)"
   ]
  }
 ],
 "metadata": {
  "kernelspec": {
   "display_name": "Python 3 (ipykernel)",
   "language": "python",
   "name": "python3"
  },
  "language_info": {
   "codemirror_mode": {
    "name": "ipython",
    "version": 3
   },
   "file_extension": ".py",
   "mimetype": "text/x-python",
   "name": "python",
   "nbconvert_exporter": "python",
   "pygments_lexer": "ipython3",
   "version": "3.8.13"
  }
 },
 "nbformat": 4,
 "nbformat_minor": 5
}
